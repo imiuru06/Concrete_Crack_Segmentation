{
 "cells": [
  {
   "cell_type": "markdown",
   "metadata": {
    "colab_type": "text",
    "id": "VKEbik4KuSDV"
   },
   "source": [
    "### Crack Segmentation on deep crack dataset."
   ]
  },
  {
   "cell_type": "markdown",
   "metadata": {
    "colab_type": "text",
    "id": "3KbSBm5DcXhc"
   },
   "source": [
    "\n",
    "### Dataset = DEEP CRACK\n",
    "### Optimiser=adam_and_beyond\n",
    "\n"
   ]
  },
  {
   "cell_type": "markdown",
   "metadata": {
    "colab_type": "text",
    "id": "hFuahpR2cOj0"
   },
   "source": [
    "### Importing the neccessary libraries and mounting the google drive"
   ]
  },
  {
   "cell_type": "code",
   "execution_count": 1,
   "metadata": {
    "colab": {
     "base_uri": "https://localhost:8080/",
     "height": 353
    },
    "colab_type": "code",
    "id": "E5VnP52Wgvf0",
    "outputId": "0e65cb19-faa5-4064-d135-1e3e9d958225",
    "scrolled": true
   },
   "outputs": [
    {
     "name": "stdout",
     "output_type": "stream",
     "text": [
      "Sun Oct 11 18:36:58 2020       \r\n",
      "+-----------------------------------------------------------------------------+\r\n",
      "| NVIDIA-SMI 440.100      Driver Version: 440.100      CUDA Version: 10.2     |\r\n",
      "|-------------------------------+----------------------+----------------------+\r\n",
      "| GPU  Name        Persistence-M| Bus-Id        Disp.A | Volatile Uncorr. ECC |\r\n",
      "| Fan  Temp  Perf  Pwr:Usage/Cap|         Memory-Usage | GPU-Util  Compute M. |\r\n",
      "|===============================+======================+======================|\r\n",
      "|   0  GeForce RTX 208...  Off  | 00000000:01:00.0 Off |                  N/A |\r\n",
      "| 31%   48C    P2    63W / 250W |  10979MiB / 11011MiB |      0%      Default |\r\n",
      "+-------------------------------+----------------------+----------------------+\r\n",
      "|   1  GeForce RTX 208...  Off  | 00000000:03:00.0 Off |                  N/A |\r\n",
      "|  0%   35C    P8     1W / 250W |  10973MiB / 11019MiB |      0%      Default |\r\n",
      "+-------------------------------+----------------------+----------------------+\r\n",
      "                                                                               \r\n",
      "+-----------------------------------------------------------------------------+\r\n",
      "| Processes:                                                       GPU Memory |\r\n",
      "|  GPU       PID   Type   Process name                             Usage      |\r\n",
      "|=============================================================================|\r\n",
      "+-----------------------------------------------------------------------------+\r\n"
     ]
    }
   ],
   "source": [
    "! nvidia-smi"
   ]
  },
  {
   "cell_type": "code",
   "execution_count": 2,
   "metadata": {},
   "outputs": [],
   "source": [
    "import os\n",
    "import cv2\n",
    "import shutil\n",
    "import math\n",
    "import numpy as np\n",
    "import seaborn as sns\n",
    "import matplotlib.pyplot as plt\n",
    "sns.set()"
   ]
  },
  {
   "cell_type": "code",
   "execution_count": 3,
   "metadata": {
    "colab": {},
    "colab_type": "code",
    "id": "IHafxTy4h8V9"
   },
   "outputs": [],
   "source": [
    "import tensorflow as tf\n",
    "from tensorflow import keras\n",
    "import tensorflow.keras.backend as K\n",
    "from tensorflow.keras.utils import Sequence\n",
    "from tensorflow.keras.models import Model\n",
    "from tensorflow.keras.layers import Input, Conv2D, BatchNormalization, Activation, MaxPooling2D, Conv2DTranspose, Add, concatenate, average, Dropout\n",
    "from tensorflow.keras.losses import binary_crossentropy\n",
    "from tensorflow.keras.callbacks import EarlyStopping, ReduceLROnPlateau"
   ]
  },
  {
   "cell_type": "code",
   "execution_count": 4,
   "metadata": {
    "colab": {},
    "colab_type": "code",
    "id": "IcQvHB_wh9uI"
   },
   "outputs": [
    {
     "name": "stdout",
     "output_type": "stream",
     "text": [
      "Requirement already satisfied: albumentations in /usr/local/lib/python3.6/site-packages (0.4.6)\n",
      "Requirement already satisfied: PyYAML in /usr/local/lib/python3.6/site-packages (from albumentations) (5.2)\n",
      "Requirement already satisfied: numpy>=1.11.1 in /usr/local/lib/python3.6/site-packages (from albumentations) (1.18.5)\n",
      "Requirement already satisfied: imgaug>=0.4.0 in /usr/local/lib/python3.6/site-packages (from albumentations) (0.4.0)\n",
      "Requirement already satisfied: opencv-python>=4.1.1 in /usr/local/lib/python3.6/site-packages (from albumentations) (4.1.2.30)\n",
      "Requirement already satisfied: scipy in /usr/local/lib/python3.6/site-packages (from albumentations) (1.3.3)\n",
      "Requirement already satisfied: imageio in /usr/local/lib/python3.6/site-packages (from imgaug>=0.4.0->albumentations) (2.6.1)\n",
      "Requirement already satisfied: Shapely in /usr/local/lib/python3.6/site-packages (from imgaug>=0.4.0->albumentations) (1.7.1)\n",
      "Requirement already satisfied: scikit-image>=0.14.2 in /usr/local/lib/python3.6/site-packages (from imgaug>=0.4.0->albumentations) (0.16.2)\n",
      "Requirement already satisfied: Pillow in /usr/local/lib/python3.6/site-packages (from imgaug>=0.4.0->albumentations) (6.2.1)\n",
      "Requirement already satisfied: matplotlib in /usr/local/lib/python3.6/site-packages (from imgaug>=0.4.0->albumentations) (3.1.2)\n",
      "Requirement already satisfied: six in /usr/local/lib/python3.6/site-packages (from imgaug>=0.4.0->albumentations) (1.13.0)\n",
      "Requirement already satisfied: PyWavelets>=0.4.0 in /usr/local/lib/python3.6/site-packages (from scikit-image>=0.14.2->imgaug>=0.4.0->albumentations) (1.1.1)\n",
      "Requirement already satisfied: networkx>=2.0 in /usr/local/lib/python3.6/site-packages (from scikit-image>=0.14.2->imgaug>=0.4.0->albumentations) (2.4)\n",
      "Requirement already satisfied: pyparsing!=2.0.4,!=2.1.2,!=2.1.6,>=2.0.1 in /usr/local/lib/python3.6/site-packages (from matplotlib->imgaug>=0.4.0->albumentations) (2.4.5)\n",
      "Requirement already satisfied: python-dateutil>=2.1 in /usr/local/lib/python3.6/site-packages (from matplotlib->imgaug>=0.4.0->albumentations) (2.8.1)\n",
      "Requirement already satisfied: kiwisolver>=1.0.1 in /usr/local/lib/python3.6/site-packages (from matplotlib->imgaug>=0.4.0->albumentations) (1.1.0)\n",
      "Requirement already satisfied: cycler>=0.10 in /usr/local/lib/python3.6/site-packages (from matplotlib->imgaug>=0.4.0->albumentations) (0.10.0)\n",
      "Requirement already satisfied: decorator>=4.3.0 in /usr/local/lib/python3.6/site-packages (from networkx>=2.0->scikit-image>=0.14.2->imgaug>=0.4.0->albumentations) (4.4.1)\n",
      "Requirement already satisfied: setuptools in /usr/local/lib/python3.6/site-packages (from kiwisolver>=1.0.1->matplotlib->imgaug>=0.4.0->albumentations) (42.0.2)\n"
     ]
    }
   ],
   "source": [
    "!pip install albumentations\n",
    "from sklearn.metrics import classification_report, roc_auc_score, accuracy_score, average_precision_score\n",
    "from albumentations import Compose, OneOf, Flip, Rotate, RandomContrast, RandomGamma, RandomBrightness, ElasticTransform, GridDistortion, OpticalDistortion, RGBShift, CLAHE"
   ]
  },
  {
   "cell_type": "code",
   "execution_count": 5,
   "metadata": {
    "colab": {},
    "colab_type": "code",
    "id": "OJZ3zz0_OX7F"
   },
   "outputs": [],
   "source": [
    "from tensorflow.keras.losses import binary_crossentropy\n",
    "from tensorflow.keras.callbacks import EarlyStopping, ReduceLROnPlateau\n",
    "from skimage.transform import resize\n",
    "from sklearn.metrics import classification_report"
   ]
  },
  {
   "cell_type": "markdown",
   "metadata": {
    "colab_type": "text",
    "id": "YKxV1xA0cgXi"
   },
   "source": [
    "## Loading the dataset"
   ]
  },
  {
   "cell_type": "code",
   "execution_count": 6,
   "metadata": {},
   "outputs": [
    {
     "ename": "NameError",
     "evalue": "name 'datasetName' is not defined",
     "output_type": "error",
     "traceback": [
      "\u001b[0;31m---------------------------------------------------------------------------\u001b[0m",
      "\u001b[0;31mNameError\u001b[0m                                 Traceback (most recent call last)",
      "\u001b[0;32m<ipython-input-6-c775f2107208>\u001b[0m in \u001b[0;36m<module>\u001b[0;34m\u001b[0m\n\u001b[1;32m     20\u001b[0m \u001b[0mmodel_path\u001b[0m \u001b[0;34m=\u001b[0m \u001b[0mos\u001b[0m\u001b[0;34m.\u001b[0m\u001b[0mpath\u001b[0m\u001b[0;34m.\u001b[0m\u001b[0mjoin\u001b[0m\u001b[0;34m(\u001b[0m\u001b[0mdataset_dir\u001b[0m\u001b[0;34m,\u001b[0m \u001b[0mmodelSave_name\u001b[0m\u001b[0;34m)\u001b[0m\u001b[0;34m\u001b[0m\u001b[0;34m\u001b[0m\u001b[0m\n\u001b[1;32m     21\u001b[0m \u001b[0;34m\u001b[0m\u001b[0m\n\u001b[0;32m---> 22\u001b[0;31m \u001b[0mresults_DIR\u001b[0m \u001b[0;34m=\u001b[0m \u001b[0mos\u001b[0m\u001b[0;34m.\u001b[0m\u001b[0mpath\u001b[0m\u001b[0;34m.\u001b[0m\u001b[0mjoin\u001b[0m\u001b[0;34m(\u001b[0m\u001b[0mdataset_dir\u001b[0m\u001b[0;34m,\u001b[0m \u001b[0;34m\"results\"\u001b[0m\u001b[0;34m,\u001b[0m \u001b[0mdatasetName\u001b[0m\u001b[0;34m)\u001b[0m\u001b[0;34m\u001b[0m\u001b[0;34m\u001b[0m\u001b[0m\n\u001b[0m\u001b[1;32m     23\u001b[0m \u001b[0mresults_image_DIR\u001b[0m \u001b[0;34m=\u001b[0m \u001b[0mos\u001b[0m\u001b[0;34m.\u001b[0m\u001b[0mpath\u001b[0m\u001b[0;34m.\u001b[0m\u001b[0mjoin\u001b[0m\u001b[0;34m(\u001b[0m\u001b[0mresults_DIR\u001b[0m\u001b[0;34m,\u001b[0m \u001b[0;34m\"image\"\u001b[0m\u001b[0;34m)\u001b[0m\u001b[0;34m\u001b[0m\u001b[0;34m\u001b[0m\u001b[0m\n\u001b[1;32m     24\u001b[0m \u001b[0mresults_mask_DIR\u001b[0m \u001b[0;34m=\u001b[0m \u001b[0mos\u001b[0m\u001b[0;34m.\u001b[0m\u001b[0mpath\u001b[0m\u001b[0;34m.\u001b[0m\u001b[0mjoin\u001b[0m\u001b[0;34m(\u001b[0m\u001b[0mresults_DIR\u001b[0m\u001b[0;34m,\u001b[0m \u001b[0;34m\"mask\"\u001b[0m\u001b[0;34m)\u001b[0m\u001b[0;34m\u001b[0m\u001b[0;34m\u001b[0m\u001b[0m\n",
      "\u001b[0;31mNameError\u001b[0m: name 'datasetName' is not defined"
     ]
    }
   ],
   "source": [
    "########################\n",
    "# Path Set\n",
    "\n",
    "# Dataset_dir\n",
    "dataset_name = 'Deepcrack'\n",
    "dataset_dir = os.path.join('/data/crack', dataset_name)\n",
    "\n",
    "mode_name = ['train', 'val', 'test']\n",
    "\n",
    "train_image_dir = os.path.join(dataset_dir,mode_name[0],'image')\n",
    "train_mask_dir = os.path.join(dataset_dir,mode_name[0],'mask')\n",
    "val_image_dir = os.path.join(dataset_dir,mode_name[1],'image')\n",
    "val_mask_dir = os.path.join(dataset_dir,mode_name[1],'mask')\n",
    "test_image_dir = os.path.join(dataset_dir,mode_name[2],'image')\n",
    "test_mask_dir = os.path.join(dataset_dir,mode_name[2],'mask')\n",
    "\n",
    "# model path\n",
    "\n",
    "modelSave_name = \"concrete_cracks_{}.h5\".format(dataset_name)\n",
    "model_path = os.path.join(dataset_dir, modelSave_name)\n",
    "\n",
    "results_DIR = os.path.join(dataset_dir, \"results\", dataset_name)\n",
    "results_image_DIR = os.path.join(results_DIR, \"image\")\n",
    "results_mask_DIR = os.path.join(results_DIR, \"mask\")\n",
    "results_overlap_DIR = os.path.join(results_DIR, \"overlap\")\n",
    "\n",
    "def checkDirExist(folder_dir):\n",
    "    try:\n",
    "        if not(os.path.isdir(folder_dir)):\n",
    "            os.makedirs(os.path.join(folder_dir))\n",
    "    except OSError as e:\n",
    "        if e.errno != errno.EEXIST:\n",
    "            print(\"Failed to crate directory!!!!\")\n",
    "            raise\n",
    "\n",
    "checkDirExist(results_DIR)            \n",
    "checkDirExist(results_image_DIR)       \n",
    "checkDirExist(results_mask_DIR)       \n",
    "checkDirExist(results_overlap_DIR)\n",
    "\n"
   ]
  },
  {
   "cell_type": "code",
   "execution_count": null,
   "metadata": {},
   "outputs": [],
   "source": [
    "#########################\n",
    "# USER Set\n",
    "\n",
    "mode_run_type = ['train', 'inference']\n",
    "mode_run = mode_run_type[0] # 0 is train, 1 is inference\n",
    "\n",
    "set_valid = True # In train, if valid or not.\n",
    "set_split_val = True\n",
    "number_set_train = 270\n",
    "\n",
    "os.environ[\"CUDA_VISIBLE_DEVICES\"]='0'"
   ]
  },
  {
   "cell_type": "markdown",
   "metadata": {
    "colab_type": "text",
    "id": "MJsDykrdcqlb"
   },
   "source": [
    "### Input Pipeline\n",
    "* The data is loaded with its respective masks\n",
    "* The data is then shuffled \n",
    "* Splited & Divided into train,test and validation sets \n",
    "\n",
    "\n",
    "\n",
    "\n",
    "\n",
    "\n"
   ]
  },
  {
   "cell_type": "code",
   "execution_count": null,
   "metadata": {
    "colab": {
     "base_uri": "https://localhost:8080/",
     "height": 118
    },
    "colab_type": "code",
    "id": "ml-TBFdERQKI",
    "outputId": "591a66c6-aa3b-42fa-8693-102dd70a2128"
   },
   "outputs": [],
   "source": [
    "train_image_paths = sorted([os.path.join(train_image_dir, fname) for fname in os.listdir(train_image_dir) if fname.endswith(\".jpg\") and not fname.startswith(\".\")])\n",
    "train_mask_paths = sorted([os.path.join(train_mask_dir, fname) for fname in os.listdir(train_mask_dir) if fname.endswith(\".png\") and not fname.startswith(\".\")])\n",
    "if set_valid:\n",
    "    val_image_paths = sorted([os.path.join(val_image_dir, fname) for fname in os.listdir(val_image_dir) if fname.endswith(\".jpg\") and not fname.startswith(\".\")])\n",
    "    val_mask_paths = sorted([os.path.join(val_mask_dir, fname) for fname in os.listdir(val_mask_dir) if fname.endswith(\".png\") and not fname.startswith(\".\")])\n",
    "\n",
    "    test_image_paths = sorted([os.path.join(test_image_dir, fname) for fname in os.listdir(test_image_dir) if fname.endswith(\".jpg\") and not fname.startswith(\".\")])\n",
    "    test_mask_paths = sorted([os.path.join(test_mask_dir, fname) for fname in os.listdir(test_mask_dir) if fname.endswith(\".png\") and not fname.startswith(\".\")])\n",
    "\n",
    "print(\"Number of training images : \", len(train_image_paths))\n",
    "print(\"Number of training masks : \", len(train_mask_paths))\n",
    "\n",
    "\n",
    "print('\\n')\n",
    "if set_valid:\n",
    "    print(\"Number of validating images : \", len(val_image_paths))\n",
    "    print(\"Number of validating masks : \", len(val_mask_paths))\n",
    "    print('\\n')\n",
    "    print(\"Number of testing images : \", len(test_image_paths))\n",
    "    print(\"Number of testing masks : \", len(test_mask_paths))"
   ]
  },
  {
   "cell_type": "code",
   "execution_count": null,
   "metadata": {
    "colab": {},
    "colab_type": "code",
    "id": "tI3DPBPJ24ka"
   },
   "outputs": [],
   "source": [
    "# Shuffle\n",
    "import random\n",
    "combined = list(zip(train_image_paths, train_mask_paths))\n",
    "random.shuffle(combined)\n",
    "\n",
    "train_image_paths[:], train_mask_paths[:] = zip(*combined)"
   ]
  },
  {
   "cell_type": "code",
   "execution_count": null,
   "metadata": {
    "colab": {
     "base_uri": "https://localhost:8080/",
     "height": 50
    },
    "colab_type": "code",
    "id": "JmIHfmUj0iaU",
    "outputId": "2d056f85-0246-4221-841f-d893e92669e4"
   },
   "outputs": [],
   "source": [
    "# Splitting\n",
    "train_image_files = train_image_paths\n",
    "train_mask_files = train_mask_paths\n",
    "\n",
    "#valid_image_files = train_image_paths[150:]\n",
    "#valid_mask_files = train_mask_paths[150:]\n",
    "if set_valid:\n",
    "    if set_split_val:\n",
    "        \n",
    "        train_image_files = train_image_paths[:number_set_train]\n",
    "        train_mask_files = train_mask_paths[:number_set_train]                             \n",
    "        val_image_files = train_image_paths[number_set_train:]\n",
    "        val_mask_files = train_mask_paths[number_set_train:]\n",
    "                                            \n",
    "    else:\n",
    "        val_image_files = val_image_paths\n",
    "        val_mask_files = val_mask_paths                                    \n",
    "\n",
    "print(len(train_image_files), len(train_mask_files))\n",
    "\n",
    "if set_valid:\n",
    "    print(len(val_image_files), len(val_mask_files))\n"
   ]
  },
  {
   "cell_type": "markdown",
   "metadata": {
    "colab_type": "text",
    "id": "Fj7vC4iqdkXK"
   },
   "source": [
    "## Generator creation \n",
    "* A custom generator is created which combines the  image with its repective masks.\n",
    "* All data is augmented using albumentation library. \n",
    "* Random flips and rotations along with more attributes of the albumentation library are used to augment the images present in the training data"
   ]
  },
  {
   "cell_type": "code",
   "execution_count": null,
   "metadata": {
    "colab": {},
    "colab_type": "code",
    "id": "jQFbuMasn5Zn"
   },
   "outputs": [],
   "source": [
    "batch_size = 10\n",
    "img_dim=(256, 256)"
   ]
  },
  {
   "cell_type": "code",
   "execution_count": null,
   "metadata": {
    "colab": {},
    "colab_type": "code",
    "id": "4su1oqggmvgk"
   },
   "outputs": [],
   "source": [
    "class Generator(Sequence):\n",
    "\n",
    "  def __init__(self, x_set, y_set, batch_size=5, img_dim=(128, 128), augment=False):\n",
    "      self.x = x_set\n",
    "      self.y = y_set\n",
    "      self.batch_size = batch_size\n",
    "      self.img_dim = img_dim\n",
    "      self.augment = augment\n",
    "\n",
    "  def __len__(self):\n",
    "      return math.ceil(len(self.x) / self.batch_size)\n",
    "\n",
    "  augmentations = Compose(\n",
    "    [                   \n",
    "      Flip(p=0.7),\n",
    "      Rotate(p=0.7),\n",
    "      OneOf([\n",
    "              RandomContrast(),\n",
    "              RandomGamma(),\n",
    "              RandomBrightness()\n",
    "            ], p=0.3),\n",
    "      OneOf([\n",
    "              ElasticTransform(alpha=120, sigma=120 * 0.05, alpha_affine=120 * 0.03),\n",
    "              GridDistortion(),\n",
    "              OpticalDistortion(distort_limit=2, shift_limit=0.5)\n",
    "            ], p=0.3),\n",
    "    ])\n",
    "\n",
    "  def __getitem__(self, idx):\n",
    "      batch_x = self.x[idx * self.batch_size:(idx + 1) * self.batch_size]\n",
    "      batch_y = self.y[idx * self.batch_size:(idx + 1) * self.batch_size]\n",
    "\n",
    "      batch_x = np.array([cv2.resize(cv2.cvtColor(cv2.imread(file_name, -1), cv2.COLOR_BGR2RGB), (self.img_dim[1], self.img_dim[0])) for file_name in batch_x])\n",
    "      batch_y = np.array([(cv2.resize(cv2.imread(file_name, -1), (self.img_dim[1], self.img_dim[0]))>0).astype(np.uint8) for file_name in batch_y])\n",
    "\n",
    "      if self.augment is True:\n",
    "        aug = [self.augmentations(image=i, mask=j) for i, j in zip(batch_x, batch_y)]\n",
    "        batch_x = np.array([i['image'] for i in aug])\n",
    "        batch_y = np.array([j['mask'] for j in aug])\n",
    "\n",
    "      batch_y = np.expand_dims(batch_y, -1)\n",
    "\n",
    "      return batch_x/255, batch_y/1  "
   ]
  },
  {
   "cell_type": "code",
   "execution_count": null,
   "metadata": {
    "colab": {},
    "colab_type": "code",
    "id": "ZqsGyFXVorlj"
   },
   "outputs": [],
   "source": [
    "train_generator = Generator(train_image_files, train_mask_files)\n",
    "#validation_generator = Generator(valid_image_files, valid_mask_files)\n",
    "validation_generator = Generator(val_image_files, val_mask_files)\n",
    "test_generator=Generator(test_image_paths,test_mask_paths)"
   ]
  },
  {
   "cell_type": "code",
   "execution_count": null,
   "metadata": {
    "colab": {
     "base_uri": "https://localhost:8080/",
     "height": 50
    },
    "colab_type": "code",
    "id": "alhpOEMoo42c",
    "outputId": "a0f79f76-a3b7-463f-e557-a1a10ece1c3b"
   },
   "outputs": [],
   "source": [
    "for i, j in train_generator:\n",
    "  break\n",
    "\n",
    "print(i.shape)\n",
    "print(j.shape)"
   ]
  },
  {
   "cell_type": "code",
   "execution_count": null,
   "metadata": {
    "colab": {
     "base_uri": "https://localhost:8080/",
     "height": 50
    },
    "colab_type": "code",
    "id": "fxfzdIJZgZgj",
    "outputId": "cbe51e7a-70c4-4a0d-c5f5-5c3b972f4468"
   },
   "outputs": [],
   "source": [
    "for i, j in validation_generator:\n",
    "  break\n",
    "\n",
    "print(i.shape)\n",
    "print(j.shape)"
   ]
  },
  {
   "cell_type": "code",
   "execution_count": null,
   "metadata": {
    "colab": {
     "base_uri": "https://localhost:8080/",
     "height": 50
    },
    "colab_type": "code",
    "id": "OCKl82IHdYgS",
    "outputId": "751595ee-8753-4711-d79c-17edc4db98bc"
   },
   "outputs": [],
   "source": [
    "for i,j in test_generator:\n",
    "  break\n",
    "print(i.shape)\n",
    "print(j.shape)"
   ]
  },
  {
   "cell_type": "markdown",
   "metadata": {
    "colab_type": "text",
    "id": "yTOJMR0Zee06"
   },
   "source": [
    "### Plotting of the unaugmented images along with known images"
   ]
  },
  {
   "cell_type": "code",
   "execution_count": null,
   "metadata": {
    "colab": {
     "base_uri": "https://localhost:8080/",
     "height": 371
    },
    "colab_type": "code",
    "id": "bSXAb0KEpEev",
    "outputId": "a8b0c6d1-4113-4032-a498-b568b8a30fda"
   },
   "outputs": [],
   "source": [
    "# Train generator samples (Un-augmented)\n",
    "for i, j in train_generator:\n",
    "    break\n",
    "\n",
    "fig, axes = plt.subplots(1, 5, figsize=(13,2.5))\n",
    "fig.suptitle('Original Images', fontsize=15)\n",
    "axes = axes.flatten()\n",
    "for img, ax in zip(i[:5], axes[:5]):\n",
    "    ax.imshow(img)\n",
    "    ax.axis('off')\n",
    "plt.tight_layout()\n",
    "plt.show()\n",
    "\n",
    "fig, axes = plt.subplots(1, 5, figsize=(13,2.5))\n",
    "fig.suptitle('Original Masks', fontsize=15)\n",
    "axes = axes.flatten()\n",
    "for img, ax in zip(j[:5], axes[:5]):\n",
    "    ax.imshow(np.squeeze(img, -1), cmap='gray')\n",
    "    ax.axis('off')\n",
    "plt.tight_layout()\n",
    "plt.show()"
   ]
  },
  {
   "cell_type": "code",
   "execution_count": null,
   "metadata": {
    "colab": {
     "base_uri": "https://localhost:8080/",
     "height": 371
    },
    "colab_type": "code",
    "id": "0yDoEqFghIcv",
    "outputId": "f1884ee3-1668-42db-b331-760c6c6e345c"
   },
   "outputs": [],
   "source": [
    "# Validation generator samples (Un-augmented)\n",
    "for i, j in validation_generator:\n",
    "    break\n",
    "\n",
    "fig, axes = plt.subplots(1, 5, figsize=(13,2.5))\n",
    "fig.suptitle('Original Images', fontsize=15)\n",
    "axes = axes.flatten()\n",
    "for img, ax in zip(i[:5], axes[:5]):\n",
    "    ax.imshow(img)\n",
    "    ax.axis('off')\n",
    "plt.tight_layout()\n",
    "plt.show()\n",
    "\n",
    "fig, axes = plt.subplots(1, 5, figsize=(13,2.5))\n",
    "fig.suptitle('Original Masks', fontsize=15)\n",
    "axes = axes.flatten()\n",
    "for img, ax in zip(j[:5], axes[:5]):\n",
    "    ax.imshow(np.squeeze(img, -1), cmap='gray')\n",
    "    ax.axis('off')\n",
    "plt.tight_layout()\n",
    "plt.show()"
   ]
  },
  {
   "cell_type": "code",
   "execution_count": null,
   "metadata": {
    "colab": {
     "base_uri": "https://localhost:8080/",
     "height": 371
    },
    "colab_type": "code",
    "id": "eKiAyxEfdtZj",
    "outputId": "ae06aeac-aa74-4c47-fa7f-b12bad9f48fe"
   },
   "outputs": [],
   "source": [
    "# test generator samples (Un-augmented)\n",
    "for i, j in test_generator:\n",
    "    break\n",
    "\n",
    "fig, axes = plt.subplots(1, 5, figsize=(13,2.5))\n",
    "fig.suptitle('Original Images', fontsize=15)\n",
    "axes = axes.flatten()\n",
    "for img, ax in zip(i[:5], axes[:5]):\n",
    "    ax.imshow(img)\n",
    "    ax.axis('off')\n",
    "plt.tight_layout()\n",
    "plt.show()\n",
    "\n",
    "fig, axes = plt.subplots(1, 5, figsize=(13,2.5))\n",
    "fig.suptitle('Original Masks', fontsize=15)\n",
    "axes = axes.flatten()\n",
    "for img, ax in zip(j[:5], axes[:5]):\n",
    "    ax.imshow(np.squeeze(img, -1), cmap='gray')\n",
    "    ax.axis('off')\n",
    "plt.tight_layout()\n",
    "plt.show()"
   ]
  },
  {
   "cell_type": "code",
   "execution_count": null,
   "metadata": {
    "colab": {},
    "colab_type": "code",
    "id": "FfS0pC5X4ePu"
   },
   "outputs": [],
   "source": [
    "tg = Generator(train_image_files, train_mask_files, batch_size, img_dim, augment = True)\n",
    "#vg = Generator(valid_image_files, valid_mask_files, batch_size, img_dim, augment = False)\n",
    "vg = Generator(val_image_files, val_mask_files, batch_size, img_dim, augment = False)\n",
    "testg=Generator(test_image_paths,test_mask_paths,batch_size,img_dim,augment=False)\n"
   ]
  },
  {
   "cell_type": "code",
   "execution_count": null,
   "metadata": {
    "colab": {
     "base_uri": "https://localhost:8080/",
     "height": 50
    },
    "colab_type": "code",
    "id": "0axrrTjf41Qv",
    "outputId": "115aea53-25a2-4760-c222-f591783579bd"
   },
   "outputs": [],
   "source": [
    "for i, j in tg:\n",
    "  break\n",
    "\n",
    "print(i.shape)\n",
    "print(j.shape)"
   ]
  },
  {
   "cell_type": "code",
   "execution_count": null,
   "metadata": {
    "colab": {
     "base_uri": "https://localhost:8080/",
     "height": 50
    },
    "colab_type": "code",
    "id": "-HIFbq9R44v8",
    "outputId": "7fc8b8aa-a795-4d97-afff-321ccfcbf28c"
   },
   "outputs": [],
   "source": [
    "for i, j in vg:\n",
    "  break\n",
    "\n",
    "print(i.shape)\n",
    "print(j.shape)"
   ]
  },
  {
   "cell_type": "code",
   "execution_count": null,
   "metadata": {
    "colab": {
     "base_uri": "https://localhost:8080/",
     "height": 50
    },
    "colab_type": "code",
    "id": "PqIltjwleFO4",
    "outputId": "bd681dec-6823-4036-9a3b-e6ab2dd6b4fd"
   },
   "outputs": [],
   "source": [
    "for i, j in testg:\n",
    "  break\n",
    "\n",
    "print(i.shape)\n",
    "print(j.shape)"
   ]
  },
  {
   "cell_type": "code",
   "execution_count": null,
   "metadata": {
    "colab": {
     "base_uri": "https://localhost:8080/",
     "height": 371
    },
    "colab_type": "code",
    "id": "5GkjKFbprzbh",
    "outputId": "58d6047b-901c-4a33-cbad-48958cf17c30"
   },
   "outputs": [],
   "source": [
    "# Augmented train\n",
    "for i, j in tg:\n",
    "    break\n",
    "\n",
    "fig, axes = plt.subplots(1, 5, figsize=(13,2.5))\n",
    "fig.suptitle('Augmented Images', fontsize=15)\n",
    "axes = axes.flatten()\n",
    "for img, ax in zip(i[:5], axes[:5]):\n",
    "    ax.imshow(img)\n",
    "    ax.axis('off')\n",
    "plt.tight_layout()\n",
    "plt.show()\n",
    "\n",
    "fig, axes = plt.subplots(1, 5, figsize=(13,2.5))\n",
    "fig.suptitle('Augmented Masks', fontsize=15)\n",
    "axes = axes.flatten()\n",
    "for img, ax in zip(j[:5], axes[:5]):\n",
    "    ax.imshow(np.squeeze(img, -1), cmap='gray')\n",
    "    ax.axis('off')\n",
    "plt.tight_layout()\n",
    "plt.show()"
   ]
  },
  {
   "cell_type": "markdown",
   "metadata": {
    "colab_type": "text",
    "id": "C9y9xRc6oCoH"
   },
   "source": [
    "#Model"
   ]
  },
  {
   "cell_type": "code",
   "execution_count": null,
   "metadata": {
    "colab": {
     "base_uri": "https://localhost:8080/",
     "height": 34
    },
    "colab_type": "code",
    "id": "vWEwCGGnp2yp",
    "outputId": "349662a5-db7e-4bf9-f20e-b8de5aae60fb"
   },
   "outputs": [],
   "source": [
    "import numpy as np\n",
    "from tensorflow.keras.backend import int_shape\n",
    "from tensorflow.keras.models import Model\n",
    "from tensorflow.keras.layers import Conv2D, MaxPooling2D, UpSampling2D, Add, BatchNormalization, Input, Activation, Concatenate\n",
    "from keras.regularizers import l2"
   ]
  },
  {
   "cell_type": "code",
   "execution_count": null,
   "metadata": {
    "colab": {},
    "colab_type": "code",
    "id": "EhiXPvY6nzxI"
   },
   "outputs": [],
   "source": [
    "# BatchNormalization and Activation\n",
    "def BN_Act(x, act = True):\n",
    "    x = BatchNormalization()(x)\n",
    "    if act == True:\n",
    "        x = Activation(\"relu\")(x)\n",
    "    return x"
   ]
  },
  {
   "cell_type": "code",
   "execution_count": null,
   "metadata": {
    "colab": {},
    "colab_type": "code",
    "id": "_Thca7KWnz1X"
   },
   "outputs": [],
   "source": [
    "# conv2d block\n",
    "def conv2d_block(x, filters, kernel_size = (3, 3), padding = \"same\", strides = 1):\n",
    "    conv = BN_Act(x)\n",
    "    conv = Conv2D(filters, kernel_size, padding = padding, strides = strides)(conv)\n",
    "    return conv"
   ]
  },
  {
   "cell_type": "code",
   "execution_count": null,
   "metadata": {
    "colab": {},
    "colab_type": "code",
    "id": "RWeK7CsWnz6H"
   },
   "outputs": [],
   "source": [
    "# Fixed layer\n",
    "def stem(x, filters, kernel_size=(3, 3), padding=\"same\", strides=1):\n",
    "    conv = Conv2D(filters, kernel_size, padding = padding, strides = strides)(x)\n",
    "    conv = conv2d_block(conv, filters, kernel_size = kernel_size, padding = padding, strides = strides)\n",
    "    \n",
    "    #skip\n",
    "    shortcut = Conv2D(filters, kernel_size = (1, 1), padding = padding, strides = strides)(x)\n",
    "    shortcut = BN_Act(shortcut, act = False) # No activation in skip connection\n",
    "    \n",
    "    output = Add()([conv, shortcut])\n",
    "    return output"
   ]
  },
  {
   "cell_type": "code",
   "execution_count": null,
   "metadata": {
    "colab": {},
    "colab_type": "code",
    "id": "r1tM8g0znz8h"
   },
   "outputs": [],
   "source": [
    "#Residual Block\n",
    "def residual_block(x, filters, kernel_size = (3, 3), padding = \"same\", strides = 1):\n",
    "    res = conv2d_block(x, filters, kernel_size = kernel_size, padding = padding, strides = strides)\n",
    "    res = conv2d_block(res, filters, kernel_size = kernel_size, padding = padding, strides = 1)\n",
    "    \n",
    "    shortcut = Conv2D(filters, kernel_size = (1, 1), padding = padding, strides = strides)(x)\n",
    "    shortcut = BN_Act(shortcut, act = False) # No activation in skip connection\n",
    "    \n",
    "    output = Add()([shortcut, res])\n",
    "    return output"
   ]
  },
  {
   "cell_type": "code",
   "execution_count": null,
   "metadata": {
    "colab": {},
    "colab_type": "code",
    "id": "HpRuPwern5qL"
   },
   "outputs": [],
   "source": [
    "#Upsample concatenation block\n",
    "def upsample_concat_block(x, xskip):\n",
    "    u = UpSampling2D((2, 2))(x)\n",
    "    c = Concatenate()([u, xskip])\n",
    "    return c"
   ]
  },
  {
   "cell_type": "code",
   "execution_count": null,
   "metadata": {
    "colab": {},
    "colab_type": "code",
    "id": "5XzCXZbnn5sl"
   },
   "outputs": [],
   "source": [
    " # Complete model Architecture\n",
    "def ResUNet():\n",
    "    f = [16, 32, 64, 128, 256]\n",
    "    inputs = Input((img_dim[0], img_dim[1], 3))\n",
    "    \n",
    "    ## Encoder/downsampling/contracting path\n",
    "    e0 = inputs\n",
    "    e1 = stem(e0, f[0])\n",
    "    e2 = residual_block(e1, f[1], strides = 2)\n",
    "    e3 = residual_block(e2, f[2], strides = 2)\n",
    "    e4 = residual_block(e3, f[3], strides = 2)\n",
    "    e5 = residual_block(e4, f[4], strides = 2)\n",
    "    \n",
    "    ## Bridge/Bottleneck\n",
    "    b0 = conv2d_block(e5, f[4], strides = 1)\n",
    "    b1 = conv2d_block(b0, f[4], strides = 1)\n",
    "    \n",
    "    ## Decoder/upsampling/expansive path\n",
    "    u1 = upsample_concat_block(b1, e4)\n",
    "    d1 = residual_block(u1, f[4])\n",
    "    \n",
    "    u2 = upsample_concat_block(d1, e3)\n",
    "    d2 = residual_block(u2, f[3])\n",
    "    \n",
    "    u3 = upsample_concat_block(d2, e2)\n",
    "    d3 = residual_block(u3, f[2])\n",
    "    \n",
    "    u4 = upsample_concat_block(d3, e1)\n",
    "    d4 = residual_block(u4, f[1])\n",
    "    \n",
    "    outputs = Conv2D(1, (1, 1), padding = \"same\", activation = \"sigmoid\")(d4)\n",
    "    \n",
    "    print(inputs.shape)\n",
    "    print(outputs.shape)\n",
    "    model = Model(inputs, outputs)\n",
    "    return model"
   ]
  },
  {
   "cell_type": "code",
   "execution_count": null,
   "metadata": {
    "colab": {},
    "colab_type": "code",
    "id": "8pJakhY3vEd7"
   },
   "outputs": [],
   "source": [
    "K.clear_session()\n",
    "model = ResUNet()"
   ]
  },
  {
   "cell_type": "code",
   "execution_count": null,
   "metadata": {
    "colab": {
     "base_uri": "https://localhost:8080/",
     "height": 1000
    },
    "colab_type": "code",
    "id": "chhcbL7HpW_4",
    "outputId": "5b523b19-d628-49cc-df85-1a3ccea0ccd3"
   },
   "outputs": [],
   "source": [
    "model.summary()"
   ]
  },
  {
   "cell_type": "code",
   "execution_count": null,
   "metadata": {
    "colab": {
     "base_uri": "https://localhost:8080/",
     "height": 1000
    },
    "colab_type": "code",
    "id": "0iI1Zx9LunvR",
    "outputId": "4ce4159f-a22b-448a-95ce-46490164067e",
    "scrolled": true
   },
   "outputs": [],
   "source": [
    "from tensorflow.keras.utils import plot_model\n",
    "\n",
    "plot_model(\n",
    "    model,\n",
    "    to_file=\"model.png\",\n",
    "    show_shapes=True,\n",
    "    show_layer_names=True,\n",
    "    rankdir=\"TB\",\n",
    "    expand_nested=True,\n",
    "    dpi=100,\n",
    ")"
   ]
  },
  {
   "cell_type": "markdown",
   "metadata": {
    "colab_type": "text",
    "id": "adri4a3xoHiW"
   },
   "source": [
    "# Loss Function\n"
   ]
  },
  {
   "cell_type": "code",
   "execution_count": null,
   "metadata": {
    "colab": {},
    "colab_type": "code",
    "id": "QDPNTRZ5xkpG"
   },
   "outputs": [],
   "source": [
    "smooth = 1.\n",
    "\n",
    "def dice_coef(y_true, y_pred):\n",
    "    y_true_f = K.flatten(y_true)\n",
    "    y_pred_f = K.flatten(y_pred)\n",
    "    intersection = tf.reduce_sum(y_true_f * y_pred_f)\n",
    "    return (2. * intersection + smooth) / (tf.reduce_sum(y_true_f) + tf.reduce_sum(y_pred_f) + smooth)\n",
    "\n",
    "\n",
    "def dice_coef_loss(y_true, y_pred):\n",
    "    return 1.0 - dice_coef(y_true, y_pred)\n",
    "\n",
    "def IOU(y_true, y_pred):\n",
    "\n",
    "    y_true = K.flatten(y_true)\n",
    "    y_pred = K.flatten(y_pred)\n",
    "\n",
    "    thresh = 0.5\n",
    "\n",
    "    y_true = K.cast(K.greater_equal(y_true, thresh), 'float32')\n",
    "    y_pred = K.cast(K.greater_equal(y_pred, thresh), 'float32')\n",
    "\n",
    "    union = K.sum(K.maximum(y_true, y_pred)) + K.epsilon()\n",
    "    intersection = K.sum(K.minimum(y_true, y_pred)) + K.epsilon()\n",
    "\n",
    "    iou = intersection/union\n",
    "\n",
    "    return iou\n",
    "\n",
    "# def bce_dice_loss(y_true, y_pred):\n",
    "\n",
    "#     return binary_crossentropy(y_true, y_pred) + dice_loss(y_true, y_pred)"
   ]
  },
  {
   "cell_type": "markdown",
   "metadata": {
    "colab_type": "text",
    "id": "Xz5YGBYs6ZFt"
   },
   "source": [
    "### Learning Rate Schedular And other callbacks"
   ]
  },
  {
   "cell_type": "code",
   "execution_count": null,
   "metadata": {
    "colab": {},
    "colab_type": "code",
    "id": "tp8g18mb85nS"
   },
   "outputs": [],
   "source": [
    "def lr_schedule(epoch):\n",
    "    lr =0.001\n",
    "    if epoch >150:\n",
    "        lr *=2**-1\n",
    "    elif epoch >80:\n",
    "        lr *=2**(-1)\n",
    "    elif epoch >50:\n",
    "        lr *=2**(-1)\n",
    "    elif epoch >30:\n",
    "        lr *=2**(-1)\n",
    "    \n",
    "    print('Learning rate: ', lr)\n",
    "    return lr"
   ]
  },
  {
   "cell_type": "code",
   "execution_count": null,
   "metadata": {
    "colab": {},
    "colab_type": "code",
    "id": "Z7KTZtnjbPC0"
   },
   "outputs": [],
   "source": [
    "from tensorflow.keras.callbacks import ModelCheckpoint\n",
    "from tensorflow.keras.callbacks import LearningRateScheduler\n",
    "from keras.optimizers import SGD"
   ]
  },
  {
   "cell_type": "code",
   "execution_count": null,
   "metadata": {
    "colab": {},
    "colab_type": "code",
    "id": "ktbkm-XabA0V"
   },
   "outputs": [],
   "source": [
    "\n",
    "import time\n",
    "\n",
    "start_time = time.time()\n",
    "\n",
    "# Prepare callbacks for model saving and for learning rate adjustment.\n",
    "lr_scheduler = LearningRateScheduler(lr_schedule)\n",
    "\n",
    "lr_reducer = ReduceLROnPlateau(factor=np.sqrt(0.1),\n",
    "                               cooldown=0,\n",
    "                               patience=5,\n",
    "                               min_lr=0.5e-8)\n",
    "\n",
    "callbacks = [lr_reducer, lr_scheduler]\n"
   ]
  },
  {
   "cell_type": "markdown",
   "metadata": {
    "colab_type": "text",
    "id": "onjPIOeC6jQN"
   },
   "source": [
    "### Compiling with adam and beyond"
   ]
  },
  {
   "cell_type": "code",
   "execution_count": null,
   "metadata": {
    "colab": {
     "base_uri": "https://localhost:8080/",
     "height": 34
    },
    "colab_type": "code",
    "id": "h1V53XESxVw7",
    "outputId": "46dafedb-5b4e-42b2-b0d9-4a6edaa4386a"
   },
   "outputs": [],
   "source": [
    "import tensorflow as tf\n",
    "learning_rate = 0.0035\n",
    "optimiser=tf.keras.optimizers.Adam(\n",
    "    learning_rate=lr_schedule(0),\n",
    "    beta_1=0.9,\n",
    "    beta_2=0.999,\n",
    "    epsilon=1e-07,\n",
    "    amsgrad=True,\n",
    "    name=\"Adam\"\n",
    ")\n",
    "\n",
    "model.compile(optimizer =optimiser , loss = dice_coef_loss, metrics = ['accuracy', IOU, dice_coef])"
   ]
  },
  {
   "cell_type": "code",
   "execution_count": null,
   "metadata": {
    "colab": {},
    "colab_type": "code",
    "id": "ynLVAS7yo05C"
   },
   "outputs": [],
   "source": [
    "model_init_path = os.path.join(dataset_dir, 'Adam_and_beyond.h5')\n",
    "model.save(model_init_path)"
   ]
  },
  {
   "cell_type": "markdown",
   "metadata": {
    "colab_type": "text",
    "id": "6lEYjcwyGGvp"
   },
   "source": [
    "## Training"
   ]
  },
  {
   "cell_type": "code",
   "execution_count": null,
   "metadata": {
    "colab": {
     "base_uri": "https://localhost:8080/",
     "height": 1000
    },
    "colab_type": "code",
    "id": "nlYpzgkEno3d",
    "outputId": "24e75f16-c9ba-463a-b7fe-1a9176ae9368",
    "scrolled": true
   },
   "outputs": [],
   "source": [
    "train_steps = len(train_image_files)//batch_size\n",
    "#valid_steps = len(valid_image_files)//batch_size\n",
    "valid_steps = len(val_image_files)//batch_size\n",
    "\n",
    "print(len(train_image_files), train_steps)\n",
    "#print(len(valid_image_files), valid_steps)\n",
    "print(len(val_image_files), valid_steps)\n",
    "history = model.fit(\n",
    "    tg, \n",
    "    steps_per_epoch=train_steps,\n",
    "    initial_epoch = 0,\n",
    "    epochs=100,\n",
    "    validation_data = vg,    \n",
    "    validation_steps = valid_steps,callbacks=callbacks)"
   ]
  },
  {
   "cell_type": "code",
   "execution_count": null,
   "metadata": {
    "colab": {},
    "colab_type": "code",
    "id": "0OiplUGb_PeN"
   },
   "outputs": [],
   "source": [
    "train_loss = history.history['loss']\n",
    "valid_loss = history.history['val_loss']\n",
    "\n",
    "train_acc = history.history['acc']\n",
    "valid_acc = history.history['val_acc']"
   ]
  },
  {
   "cell_type": "code",
   "execution_count": null,
   "metadata": {
    "colab": {
     "base_uri": "https://localhost:8080/",
     "height": 301
    },
    "colab_type": "code",
    "id": "6nH_vNkL_Pgz",
    "outputId": "564c3047-9642-4cc5-fd98-17401d2da224"
   },
   "outputs": [],
   "source": [
    "fig, axes = plt.subplots(1, 2, figsize=(13,4))\n",
    "axes = axes.flatten()\n",
    "\n",
    "axes[0].plot(train_acc, label='training')\n",
    "axes[0].plot(valid_acc, label='validation')\n",
    "axes[0].set_title('Accuracy Curve')\n",
    "axes[0].set_xlabel('epochs')\n",
    "axes[0].set_ylabel('accuracy')\n",
    "axes[0].legend()\n",
    "\n",
    "\n",
    "axes[1].plot(train_loss, label='training')\n",
    "axes[1].plot(valid_loss, label='validation')\n",
    "axes[1].set_title('Loss Curve')\n",
    "axes[1].set_xlabel('epochs')\n",
    "axes[1].set_ylabel('loss')\n",
    "axes[1].legend()\n",
    "\n",
    "plt.show()"
   ]
  },
  {
   "cell_type": "code",
   "execution_count": null,
   "metadata": {
    "colab": {},
    "colab_type": "code",
    "id": "GYU764kkJfOp"
   },
   "outputs": [],
   "source": [
    "train_dice = history.history['dice_coef']\n",
    "valid_dice = history.history['val_dice_coef']\n",
    "\n",
    "\n",
    "train_IOU = history.history['IOU']\n",
    "valid_IOU = history.history['val_IOU']"
   ]
  },
  {
   "cell_type": "code",
   "execution_count": null,
   "metadata": {
    "colab": {
     "base_uri": "https://localhost:8080/",
     "height": 464
    },
    "colab_type": "code",
    "id": "Rmz6jQP4JniA",
    "outputId": "ba615280-6b07-45c6-983e-1f953b0a435c"
   },
   "outputs": [],
   "source": [
    "fig, axes = plt.subplots(1, 2, figsize=(20,7))\n",
    "axes = axes.flatten()\n",
    "\n",
    "axes[0].plot(train_IOU, label='training')\n",
    "axes[0].plot(valid_IOU, label='validation')\n",
    "axes[0].set_title('IOU Curve [Adam lr : 0.0001]')\n",
    "axes[0].set_xlabel('epochs')\n",
    "axes[0].set_ylabel('IOU')\n",
    "axes[0].legend()\n",
    "\n",
    "\n",
    "axes[1].plot(train_dice, label='training')\n",
    "axes[1].plot(valid_dice, label='validation')\n",
    "axes[1].set_title('Dice coefficient Curve [Adam lr : 0.0001]')\n",
    "axes[1].set_xlabel('epochs')\n",
    "axes[1].set_ylabel('dice_coef')\n",
    "axes[1].legend()\n",
    "\n",
    "plt.show()"
   ]
  },
  {
   "cell_type": "code",
   "execution_count": null,
   "metadata": {},
   "outputs": [],
   "source": [
    "# Model save\n",
    "model.save(model_path)"
   ]
  },
  {
   "cell_type": "markdown",
   "metadata": {
    "colab_type": "text",
    "id": "YgqKxmYt67WC"
   },
   "source": [
    "## Testing"
   ]
  },
  {
   "cell_type": "code",
   "execution_count": null,
   "metadata": {
    "colab": {},
    "colab_type": "code",
    "id": "xEsVhGmy_Pka"
   },
   "outputs": [],
   "source": [
    "test_generator = Generator(val_image_files, val_mask_files, 30 , img_dim)\n",
    "#test_generator = Generator(val_image_files, val_mask_files, 80, img_dim)\n",
    "for x_test, y_test in test_generator:\n",
    "  break\n",
    "\n",
    "y_pred = model.predict(x_test)\n",
    "\n",
    "yy_true = (y_test>0.5).flatten()\n",
    "yy_pred = (y_pred>0.5).flatten()"
   ]
  },
  {
   "cell_type": "code",
   "execution_count": null,
   "metadata": {
    "colab": {
     "base_uri": "https://localhost:8080/",
     "height": 470
    },
    "colab_type": "code",
    "id": "lG3z87pg_Pcl",
    "outputId": "dc254242-ed77-4cae-dbd6-24cfae7f5744",
    "scrolled": false
   },
   "outputs": [],
   "source": [
    "report = classification_report(yy_true, yy_pred, output_dict=True)\n",
    "\n",
    "Accuracy = accuracy_score(yy_true, yy_pred)\n",
    "\n",
    "AP = average_precision_score(y_test.flatten(), y_pred.flatten())\n",
    "\n",
    "Precision = report['True']['precision']\n",
    "Recall = report['True']['recall']\n",
    "F1_score = report['True']['f1-score']\n",
    "\n",
    "Sensitivity = Recall\n",
    "Specificity = report['False']['recall']\n",
    "\n",
    "AUC = roc_auc_score(y_test.flatten(), y_pred.flatten())\n",
    "\n",
    "IOU = (Precision*Recall)/(Precision+Recall-Precision*Recall)\n",
    "\n",
    "print(\"Accuracy: {0:.4f}\\n\".format(Accuracy))\n",
    "print(\"AP: {0:.4f}\\n\".format(AP))\n",
    "print(\"Precision: {0:.4f}\\n\".format(Precision))\n",
    "print(\"Recall: {0:.4f}\\n\".format(Recall))\n",
    "print(\"F1-Score: {0:.4f}\\n\".format(F1_score))\n",
    "print(\"Sensitivity: {0:.4f}\\n\".format(Sensitivity))\n",
    "print(\"Specificity: {0:.4f}\\n\".format(Specificity))\n",
    "print(\"AUC: {0:.4f}\\n\".format(AUC))\n",
    "print(\"IOU: {0:.4f}\\n\".format(IOU))\n",
    "print('-'*50,'\\n')\n",
    "print(classification_report(yy_true, yy_pred))"
   ]
  },
  {
   "cell_type": "code",
   "execution_count": null,
   "metadata": {
    "colab": {},
    "colab_type": "code",
    "id": "l0dAyNLueT7p"
   },
   "outputs": [],
   "source": [
    "test_generator = Generator(test_image_paths, test_mask_paths, 237, img_dim)\n",
    "\n",
    "for x_test, y_test in test_generator:\n",
    "  break\n",
    "\n",
    "y_pred = model.predict(x_test)\n",
    "\n",
    "yy_true = (y_test>0.5).flatten()\n",
    "yy_pred = (y_pred>0.5).flatten()"
   ]
  },
  {
   "cell_type": "code",
   "execution_count": null,
   "metadata": {
    "colab": {
     "base_uri": "https://localhost:8080/",
     "height": 470
    },
    "colab_type": "code",
    "id": "ggRK9ryNn2lJ",
    "outputId": "c3c092bc-cf1b-4eb5-c5d9-3057b79d7b51",
    "scrolled": false
   },
   "outputs": [],
   "source": [
    "report = classification_report(yy_true, yy_pred, output_dict=True)\n",
    "\n",
    "Accuracy = accuracy_score(yy_true, yy_pred)\n",
    "\n",
    "AP = average_precision_score(y_test.flatten(), y_pred.flatten())\n",
    "\n",
    "Precision = report['True']['precision']\n",
    "Recall = report['True']['recall']\n",
    "F1_score = report['True']['f1-score']\n",
    "\n",
    "Sensitivity = Recall\n",
    "Specificity = report['False']['recall']\n",
    "\n",
    "AUC = roc_auc_score(y_test.flatten(), y_pred.flatten())\n",
    "\n",
    "IOU = (Precision*Recall)/(Precision+Recall-Precision*Recall)\n",
    "\n",
    "print(\"Accuracy: {0:.4f}\\n\".format(Accuracy))\n",
    "print(\"AP: {0:.4f}\\n\".format(AP))\n",
    "print(\"Precision: {0:.4f}\\n\".format(Precision))\n",
    "print(\"Recall: {0:.4f}\\n\".format(Recall))\n",
    "print(\"F1-Score: {0:.4f}\\n\".format(F1_score))\n",
    "print(\"Sensitivity: {0:.4f}\\n\".format(Sensitivity))\n",
    "print(\"Specificity: {0:.4f}\\n\".format(Specificity))\n",
    "print(\"AUC: {0:.4f}\\n\".format(AUC))\n",
    "print(\"IOU: {0:.4f}\\n\".format(IOU))\n",
    "print('-'*50,'\\n')\n",
    "print(classification_report(yy_true, yy_pred))"
   ]
  }
 ],
 "metadata": {
  "accelerator": "GPU",
  "colab": {
   "collapsed_sections": [
    "hFuahpR2cOj0",
    "YKxV1xA0cgXi",
    "Fj7vC4iqdkXK",
    "yTOJMR0Zee06",
    "C9y9xRc6oCoH",
    "adri4a3xoHiW",
    "Xz5YGBYs6ZFt",
    "6lEYjcwyGGvp",
    "YgqKxmYt67WC"
   ],
   "name": "Deep_crack.ipynb",
   "provenance": []
  },
  "kernelspec": {
   "display_name": "Python 3",
   "language": "python",
   "name": "python3"
  },
  "language_info": {
   "codemirror_mode": {
    "name": "ipython",
    "version": 3
   },
   "file_extension": ".py",
   "mimetype": "text/x-python",
   "name": "python",
   "nbconvert_exporter": "python",
   "pygments_lexer": "ipython3",
   "version": "3.6.9"
  }
 },
 "nbformat": 4,
 "nbformat_minor": 1
}
