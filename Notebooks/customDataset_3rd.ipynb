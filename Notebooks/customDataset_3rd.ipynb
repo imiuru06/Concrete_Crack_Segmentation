{
 "cells": [
  {
   "cell_type": "markdown",
   "metadata": {
    "colab_type": "text",
    "id": "3KbSBm5DcXhc"
   },
   "source": [
    "\n",
    "### dataset = Crack 500\n",
    "\n"
   ]
  },
  {
   "cell_type": "markdown",
   "metadata": {
    "colab_type": "text",
    "id": "np8rwLFJ-BLz"
   },
   "source": [
    "## Loading the important libraries and Dataset"
   ]
  },
  {
   "cell_type": "code",
   "execution_count": 1,
   "metadata": {
    "colab": {
     "base_uri": "https://localhost:8080/",
     "height": 351
    },
    "colab_type": "code",
    "id": "E5VnP52Wgvf0",
    "outputId": "b7b9f835-2dd5-43e7-b522-8638ded72d4f"
   },
   "outputs": [
    {
     "name": "stdout",
     "output_type": "stream",
     "text": [
      "Sun Oct 11 08:44:36 2020       \r\n",
      "+-----------------------------------------------------------------------------+\r\n",
      "| NVIDIA-SMI 440.100      Driver Version: 440.100      CUDA Version: 10.2     |\r\n",
      "|-------------------------------+----------------------+----------------------+\r\n",
      "| GPU  Name        Persistence-M| Bus-Id        Disp.A | Volatile Uncorr. ECC |\r\n",
      "| Fan  Temp  Perf  Pwr:Usage/Cap|         Memory-Usage | GPU-Util  Compute M. |\r\n",
      "|===============================+======================+======================|\r\n",
      "|   0  GeForce RTX 208...  Off  | 00000000:01:00.0 Off |                  N/A |\r\n",
      "| 31%   50C    P2    63W / 250W |  10979MiB / 11011MiB |      0%      Default |\r\n",
      "+-------------------------------+----------------------+----------------------+\r\n",
      "|   1  GeForce RTX 208...  Off  | 00000000:03:00.0 Off |                  N/A |\r\n",
      "| 58%   69C    P2   239W / 250W |  10982MiB / 11019MiB |     88%      Default |\r\n",
      "+-------------------------------+----------------------+----------------------+\r\n",
      "                                                                               \r\n",
      "+-----------------------------------------------------------------------------+\r\n",
      "| Processes:                                                       GPU Memory |\r\n",
      "|  GPU       PID   Type   Process name                             Usage      |\r\n",
      "|=============================================================================|\r\n",
      "+-----------------------------------------------------------------------------+\r\n"
     ]
    }
   ],
   "source": [
    "! nvidia-smi"
   ]
  },
  {
   "cell_type": "code",
   "execution_count": 2,
   "metadata": {
    "colab": {
     "base_uri": "https://localhost:8080/",
     "height": 70
    },
    "colab_type": "code",
    "id": "k29t08aRhmN-",
    "outputId": "03d2a68f-536f-4289-da86-b7da4225e57d"
   },
   "outputs": [],
   "source": [
    "import os\n",
    "import cv2\n",
    "import shutil\n",
    "import math\n",
    "import numpy as np\n",
    "import seaborn as sns\n",
    "import matplotlib.pyplot as plt\n",
    "sns.set()"
   ]
  },
  {
   "cell_type": "code",
   "execution_count": 3,
   "metadata": {
    "colab": {},
    "colab_type": "code",
    "id": "IHafxTy4h8V9"
   },
   "outputs": [],
   "source": [
    "import tensorflow as tf\n",
    "from tensorflow import keras\n",
    "import tensorflow.keras.backend as K\n",
    "from tensorflow.keras.utils import Sequence\n",
    "from tensorflow.keras.models import Model\n",
    "from tensorflow.keras.layers import Input, Conv2D, BatchNormalization, Activation, MaxPooling2D, Conv2DTranspose, Add, concatenate, average, Dropout\n",
    "from tensorflow.keras.losses import binary_crossentropy\n",
    "from tensorflow.keras.callbacks import EarlyStopping, ReduceLROnPlateau"
   ]
  },
  {
   "cell_type": "code",
   "execution_count": 4,
   "metadata": {
    "colab": {},
    "colab_type": "code",
    "id": "IcQvHB_wh9uI"
   },
   "outputs": [
    {
     "name": "stdout",
     "output_type": "stream",
     "text": [
      "Requirement already satisfied: albumentations in /usr/local/lib/python3.6/site-packages (0.4.6)\n",
      "Requirement already satisfied: scipy in /usr/local/lib/python3.6/site-packages (from albumentations) (1.3.3)\n",
      "Requirement already satisfied: opencv-python>=4.1.1 in /usr/local/lib/python3.6/site-packages (from albumentations) (4.1.2.30)\n",
      "Requirement already satisfied: numpy>=1.11.1 in /usr/local/lib/python3.6/site-packages (from albumentations) (1.17.4)\n",
      "Requirement already satisfied: PyYAML in /usr/local/lib/python3.6/site-packages (from albumentations) (5.2)\n",
      "Requirement already satisfied: imgaug>=0.4.0 in /usr/local/lib/python3.6/site-packages (from albumentations) (0.4.0)\n",
      "Requirement already satisfied: Shapely in /usr/local/lib/python3.6/site-packages (from imgaug>=0.4.0->albumentations) (1.7.1)\n",
      "Requirement already satisfied: imageio in /usr/local/lib/python3.6/site-packages (from imgaug>=0.4.0->albumentations) (2.6.1)\n",
      "Requirement already satisfied: scikit-image>=0.14.2 in /usr/local/lib/python3.6/site-packages (from imgaug>=0.4.0->albumentations) (0.16.2)\n",
      "Requirement already satisfied: matplotlib in /usr/local/lib/python3.6/site-packages (from imgaug>=0.4.0->albumentations) (3.1.2)\n",
      "Requirement already satisfied: six in /usr/local/lib/python3.6/site-packages (from imgaug>=0.4.0->albumentations) (1.13.0)\n",
      "Requirement already satisfied: Pillow in /usr/local/lib/python3.6/site-packages (from imgaug>=0.4.0->albumentations) (6.2.1)\n",
      "Requirement already satisfied: networkx>=2.0 in /usr/local/lib/python3.6/site-packages (from scikit-image>=0.14.2->imgaug>=0.4.0->albumentations) (2.4)\n",
      "Requirement already satisfied: PyWavelets>=0.4.0 in /usr/local/lib/python3.6/site-packages (from scikit-image>=0.14.2->imgaug>=0.4.0->albumentations) (1.1.1)\n",
      "Requirement already satisfied: python-dateutil>=2.1 in /usr/local/lib/python3.6/site-packages (from matplotlib->imgaug>=0.4.0->albumentations) (2.8.1)\n",
      "Requirement already satisfied: pyparsing!=2.0.4,!=2.1.2,!=2.1.6,>=2.0.1 in /usr/local/lib/python3.6/site-packages (from matplotlib->imgaug>=0.4.0->albumentations) (2.4.5)\n",
      "Requirement already satisfied: kiwisolver>=1.0.1 in /usr/local/lib/python3.6/site-packages (from matplotlib->imgaug>=0.4.0->albumentations) (1.1.0)\n",
      "Requirement already satisfied: cycler>=0.10 in /usr/local/lib/python3.6/site-packages (from matplotlib->imgaug>=0.4.0->albumentations) (0.10.0)\n",
      "Requirement already satisfied: decorator>=4.3.0 in /usr/local/lib/python3.6/site-packages (from networkx>=2.0->scikit-image>=0.14.2->imgaug>=0.4.0->albumentations) (4.4.1)\n",
      "Requirement already satisfied: setuptools in /usr/local/lib/python3.6/site-packages (from kiwisolver>=1.0.1->matplotlib->imgaug>=0.4.0->albumentations) (42.0.2)\n"
     ]
    }
   ],
   "source": [
    "from sklearn.metrics import classification_report, roc_auc_score, accuracy_score\n",
    "#!pip install albumentations\n",
    "from albumentations import Compose, OneOf, Flip, Rotate, RandomContrast, RandomGamma, RandomBrightness, ElasticTransform, GridDistortion, OpticalDistortion, RGBShift, CLAHE, RandomRotate90, ShiftScaleRotate"
   ]
  },
  {
   "cell_type": "code",
   "execution_count": 5,
   "metadata": {
    "colab": {},
    "colab_type": "code",
    "id": "OJZ3zz0_OX7F"
   },
   "outputs": [],
   "source": [
    "from tensorflow.keras.losses import binary_crossentropy\n",
    "from tensorflow.keras.callbacks import EarlyStopping, ReduceLROnPlateau\n",
    "from skimage.transform import resize\n",
    "from sklearn.metrics import classification_report"
   ]
  },
  {
   "cell_type": "markdown",
   "metadata": {
    "colab_type": "text",
    "id": "elrc_mBu-J0J"
   },
   "source": [
    "### Loading the data and splitting it into training and validation set."
   ]
  },
  {
   "cell_type": "code",
   "execution_count": 8,
   "metadata": {},
   "outputs": [
    {
     "name": "stdout",
     "output_type": "stream",
     "text": [
      "/data/crack/CrackTree260/train/image\n"
     ]
    }
   ],
   "source": [
    "########################\n",
    "# Path Set\n",
    "\n",
    "# Dataset_dir\n",
    "dataset_name = 'CrackTree260'\n",
    "dataset_dir = os.path.join('/data/crack', dataset_name)\n",
    "\n",
    "#mode_name = ['train', 'val', 'test']\n",
    "\n",
    "train_image_dir = os.path.join(dataset_dir,'train','image')\n",
    "train_mask_dir = os.path.join(dataset_dir,'train','mask')\n",
    "\n",
    "\n",
    "val_image_dir = os.path.join(dataset_dir,'val','image')\n",
    "val_mask_dir = os.path.join(dataset_dir,'val','mask')\n",
    "\n",
    "test_image_dir = os.path.join(dataset_dir,'test','image')\n",
    "test_mask_dir = os.path.join(dataset_dir,'test','mask')\n",
    "\n",
    "# model path\n",
    "\n",
    "modelSave_name = \"concrete_cracks_{}.h5\".format(dataset_name)\n",
    "model_path = os.path.join(dataset_dir, modelSave_name)"
   ]
  },
  {
   "cell_type": "code",
   "execution_count": 9,
   "metadata": {},
   "outputs": [],
   "source": [
    "#########################\n",
    "# USER Set\n",
    "\n",
    "mode_run_type = ['train', 'inference']\n",
    "mode_run = mode_run_type[0] # 0 is train, 1 is inference\n",
    "\n",
    "set_valid = True # In train, if valid or not.\n",
    "set_split_val = True\n",
    "\n",
    "number_set_train = 1500\n",
    "\n",
    "os.environ[\"CUDA_VISIBLE_DEVICES\"]='0'"
   ]
  },
  {
   "cell_type": "code",
   "execution_count": 10,
   "metadata": {
    "colab": {
     "base_uri": "https://localhost:8080/",
     "height": 50
    },
    "colab_type": "code",
    "id": "vwIxJMuUndrv",
    "outputId": "2abe8bae-fdb4-4dce-8689-640eddef76c1"
   },
   "outputs": [
    {
     "ename": "FileNotFoundError",
     "evalue": "[Errno 2] No such file or directory: '/data/crack/CrackTree260/val/image'",
     "output_type": "error",
     "traceback": [
      "\u001b[0;31m---------------------------------------------------------------------------\u001b[0m",
      "\u001b[0;31mFileNotFoundError\u001b[0m                         Traceback (most recent call last)",
      "\u001b[0;32m<ipython-input-10-caf6204c8fb7>\u001b[0m in \u001b[0;36m<module>\u001b[0;34m\u001b[0m\n\u001b[1;32m      2\u001b[0m \u001b[0mtrain_mask_paths\u001b[0m \u001b[0;34m=\u001b[0m \u001b[0msorted\u001b[0m\u001b[0;34m(\u001b[0m\u001b[0;34m[\u001b[0m\u001b[0mos\u001b[0m\u001b[0;34m.\u001b[0m\u001b[0mpath\u001b[0m\u001b[0;34m.\u001b[0m\u001b[0mjoin\u001b[0m\u001b[0;34m(\u001b[0m\u001b[0mtrain_mask_dir\u001b[0m\u001b[0;34m,\u001b[0m \u001b[0mfname\u001b[0m\u001b[0;34m)\u001b[0m \u001b[0;32mfor\u001b[0m \u001b[0mfname\u001b[0m \u001b[0;32min\u001b[0m \u001b[0mos\u001b[0m\u001b[0;34m.\u001b[0m\u001b[0mlistdir\u001b[0m\u001b[0;34m(\u001b[0m\u001b[0mtrain_mask_dir\u001b[0m\u001b[0;34m)\u001b[0m \u001b[0;32mif\u001b[0m \u001b[0mfname\u001b[0m\u001b[0;34m.\u001b[0m\u001b[0mendswith\u001b[0m\u001b[0;34m(\u001b[0m\u001b[0;34m\".png\"\u001b[0m\u001b[0;34m)\u001b[0m \u001b[0;32mand\u001b[0m \u001b[0;32mnot\u001b[0m \u001b[0mfname\u001b[0m\u001b[0;34m.\u001b[0m\u001b[0mstartswith\u001b[0m\u001b[0;34m(\u001b[0m\u001b[0;34m\".\"\u001b[0m\u001b[0;34m)\u001b[0m\u001b[0;34m]\u001b[0m\u001b[0;34m)\u001b[0m\u001b[0;34m\u001b[0m\u001b[0;34m\u001b[0m\u001b[0m\n\u001b[1;32m      3\u001b[0m \u001b[0;32mif\u001b[0m \u001b[0mset_valid\u001b[0m\u001b[0;34m:\u001b[0m\u001b[0;34m\u001b[0m\u001b[0;34m\u001b[0m\u001b[0m\n\u001b[0;32m----> 4\u001b[0;31m     \u001b[0mval_image_paths\u001b[0m \u001b[0;34m=\u001b[0m \u001b[0msorted\u001b[0m\u001b[0;34m(\u001b[0m\u001b[0;34m[\u001b[0m\u001b[0mos\u001b[0m\u001b[0;34m.\u001b[0m\u001b[0mpath\u001b[0m\u001b[0;34m.\u001b[0m\u001b[0mjoin\u001b[0m\u001b[0;34m(\u001b[0m\u001b[0mval_image_dir\u001b[0m\u001b[0;34m,\u001b[0m \u001b[0mfname\u001b[0m\u001b[0;34m)\u001b[0m \u001b[0;32mfor\u001b[0m \u001b[0mfname\u001b[0m \u001b[0;32min\u001b[0m \u001b[0mos\u001b[0m\u001b[0;34m.\u001b[0m\u001b[0mlistdir\u001b[0m\u001b[0;34m(\u001b[0m\u001b[0mval_image_dir\u001b[0m\u001b[0;34m)\u001b[0m \u001b[0;32mif\u001b[0m \u001b[0mfname\u001b[0m\u001b[0;34m.\u001b[0m\u001b[0mendswith\u001b[0m\u001b[0;34m(\u001b[0m\u001b[0;34m\".jpg\"\u001b[0m\u001b[0;34m)\u001b[0m \u001b[0;32mand\u001b[0m \u001b[0;32mnot\u001b[0m \u001b[0mfname\u001b[0m\u001b[0;34m.\u001b[0m\u001b[0mstartswith\u001b[0m\u001b[0;34m(\u001b[0m\u001b[0;34m\".\"\u001b[0m\u001b[0;34m)\u001b[0m\u001b[0;34m]\u001b[0m\u001b[0;34m)\u001b[0m\u001b[0;34m\u001b[0m\u001b[0;34m\u001b[0m\u001b[0m\n\u001b[0m\u001b[1;32m      5\u001b[0m     \u001b[0mval_mask_paths\u001b[0m \u001b[0;34m=\u001b[0m \u001b[0msorted\u001b[0m\u001b[0;34m(\u001b[0m\u001b[0;34m[\u001b[0m\u001b[0mos\u001b[0m\u001b[0;34m.\u001b[0m\u001b[0mpath\u001b[0m\u001b[0;34m.\u001b[0m\u001b[0mjoin\u001b[0m\u001b[0;34m(\u001b[0m\u001b[0mval_mask_dir\u001b[0m\u001b[0;34m,\u001b[0m \u001b[0mfname\u001b[0m\u001b[0;34m)\u001b[0m \u001b[0;32mfor\u001b[0m \u001b[0mfname\u001b[0m \u001b[0;32min\u001b[0m \u001b[0mos\u001b[0m\u001b[0;34m.\u001b[0m\u001b[0mlistdir\u001b[0m\u001b[0;34m(\u001b[0m\u001b[0mval_mask_dir\u001b[0m\u001b[0;34m)\u001b[0m \u001b[0;32mif\u001b[0m \u001b[0mfname\u001b[0m\u001b[0;34m.\u001b[0m\u001b[0mendswith\u001b[0m\u001b[0;34m(\u001b[0m\u001b[0;34m\".png\"\u001b[0m\u001b[0;34m)\u001b[0m \u001b[0;32mand\u001b[0m \u001b[0;32mnot\u001b[0m \u001b[0mfname\u001b[0m\u001b[0;34m.\u001b[0m\u001b[0mstartswith\u001b[0m\u001b[0;34m(\u001b[0m\u001b[0;34m\".\"\u001b[0m\u001b[0;34m)\u001b[0m\u001b[0;34m]\u001b[0m\u001b[0;34m)\u001b[0m\u001b[0;34m\u001b[0m\u001b[0;34m\u001b[0m\u001b[0m\n\u001b[1;32m      6\u001b[0m \u001b[0;34m\u001b[0m\u001b[0m\n",
      "\u001b[0;31mFileNotFoundError\u001b[0m: [Errno 2] No such file or directory: '/data/crack/CrackTree260/val/image'"
     ]
    }
   ],
   "source": [
    "train_image_paths = sorted([os.path.join(train_image_dir, fname) for fname in os.listdir(train_image_dir) if fname.endswith(\".jpg\") and not fname.startswith(\".\")])\n",
    "train_mask_paths = sorted([os.path.join(train_mask_dir, fname) for fname in os.listdir(train_mask_dir) if fname.endswith(\".png\") and not fname.startswith(\".\")])\n",
    "if set_valid:\n",
    "    val_image_paths = sorted([os.path.join(val_image_dir, fname) for fname in os.listdir(val_image_dir) if fname.endswith(\".jpg\") and not fname.startswith(\".\")])\n",
    "    val_mask_paths = sorted([os.path.join(val_mask_dir, fname) for fname in os.listdir(val_mask_dir) if fname.endswith(\".png\") and not fname.startswith(\".\")])\n",
    "\n",
    "    test_image_paths = sorted([os.path.join(test_image_dir, fname) for fname in os.listdir(test_image_dir) if fname.endswith(\".jpg\") and not fname.startswith(\".\")])\n",
    "    test_mask_paths = sorted([os.path.join(test_mask_dir, fname) for fname in os.listdir(test_mask_dir) if fname.endswith(\".png\") and not fname.startswith(\".\")])\n",
    "\n",
    "print(\"Number of training images : \", len(train_image_paths))\n",
    "print(\"Number of training masks : \", len(train_mask_paths))\n",
    "\n",
    "\n",
    "print('\\n')\n",
    "if set_valid:\n",
    "    print(\"Number of validating images : \", len(val_image_paths))\n",
    "    print(\"Number of validating masks : \", len(val_mask_paths))\n",
    "    print('\\n')\n",
    "    print(\"Number of testing images : \", len(test_image_paths))\n",
    "    print(\"Number of testing masks : \", len(test_mask_paths))"
   ]
  },
  {
   "cell_type": "code",
   "execution_count": null,
   "metadata": {
    "colab": {},
    "colab_type": "code",
    "id": "tI3DPBPJ24ka"
   },
   "outputs": [],
   "source": [
    "# Shuffle\n",
    "import random\n",
    "combined = list(zip(train_image_paths, train_mask_paths))\n",
    "random.shuffle(combined)\n",
    "train_image_paths[:], train_mask_paths[:] = zip(*combined)"
   ]
  },
  {
   "cell_type": "code",
   "execution_count": null,
   "metadata": {
    "colab": {
     "base_uri": "https://localhost:8080/",
     "height": 50
    },
    "colab_type": "code",
    "id": "JmIHfmUj0iaU",
    "outputId": "45acc007-7c92-49da-b6fa-73a76950aacc"
   },
   "outputs": [],
   "source": [
    "# Splitting\n",
    "train_image_files = train_image_paths\n",
    "train_mask_files = train_mask_paths\n",
    "\n",
    "#valid_image_files = train_image_paths[150:]\n",
    "#valid_mask_files = train_mask_paths[150:]\n",
    "if set_valid:\n",
    "    if set_split_val:\n",
    "        number_set_train = 220\n",
    "        train_image_files = train_image_paths[:number_set_train]\n",
    "        train_mask_files = train_mask_paths[:number_set_train]                             \n",
    "        val_image_files = train_image_paths[number_set_train:]\n",
    "        val_mask_files = train_mask_paths[number_set_train:]\n",
    "                                            \n",
    "    else:\n",
    "        val_image_files = val_image_paths\n",
    "        val_mask_files = val_mask_paths                                    \n",
    "\n",
    "print(len(train_image_files), len(train_mask_files))\n",
    "\n",
    "if set_valid:\n",
    "    print(len(val_image_files), len(val_mask_files))\n"
   ]
  },
  {
   "cell_type": "code",
   "execution_count": null,
   "metadata": {
    "colab": {},
    "colab_type": "code",
    "id": "jQFbuMasn5Zn"
   },
   "outputs": [],
   "source": [
    "batch_size = 2\n",
    "img_dim=(256, 256)"
   ]
  },
  {
   "cell_type": "markdown",
   "metadata": {
    "colab_type": "text",
    "id": "gMVdfrVz-Vl7"
   },
   "source": [
    "# Generator to load and augment the image batch wise"
   ]
  },
  {
   "cell_type": "code",
   "execution_count": null,
   "metadata": {
    "colab": {},
    "colab_type": "code",
    "id": "4su1oqggmvgk"
   },
   "outputs": [],
   "source": [
    "class Generator(Sequence):\n",
    "\n",
    "  def __init__(self, x_set, y_set, batch_size=5, img_dim=(128, 128), augment=False):\n",
    "      self.x = x_set\n",
    "      self.y = y_set\n",
    "      self.batch_size = batch_size\n",
    "      self.img_dim = img_dim\n",
    "      self.augment = augment\n",
    "\n",
    "  def __len__(self):\n",
    "      return math.ceil(len(self.x) / self.batch_size)\n",
    "\n",
    "  augmentations = Compose(\n",
    "    [                   \n",
    "      Flip(p=0.7),\n",
    "      Rotate(p=0.7),\n",
    "      RandomRotate90(),\n",
    "      ShiftScaleRotate(shift_limit=0.0625, scale_limit=0.2, rotate_limit=90, p=0.2),\n",
    "      OneOf([\n",
    "              RandomContrast(),\n",
    "              RandomGamma(),\n",
    "              RandomBrightness()\n",
    "            ], p=0.3)\n",
    "      #      ], p=0.3),\n",
    "      #OneOf([\n",
    "      #        ElasticTransform(alpha=120, sigma=120 * 0.05, alpha_affine=120 * 0.03),\n",
    "      #        GridDistortion(),\n",
    "      #        OpticalDistortion(distort_limit=2, shift_limit=0.5)\n",
    "      #      ], p=0.3),\n",
    "    ])\n",
    "\n",
    "  def __getitem__(self, idx):\n",
    "      batch_x = self.x[idx * self.batch_size:(idx + 1) * self.batch_size]\n",
    "      batch_y = self.y[idx * self.batch_size:(idx + 1) * self.batch_size]\n",
    "\n",
    "      batch_x = np.array([cv2.resize(cv2.cvtColor(cv2.imread(file_name, -1), cv2.COLOR_BGR2RGB), (self.img_dim[1], self.img_dim[0])) for file_name in batch_x])\n",
    "      batch_y = np.array([(cv2.resize(cv2.imread(file_name, -1), (self.img_dim[1], self.img_dim[0]))>0).astype(np.uint8) for file_name in batch_y])\n",
    "    \n",
    "        \n",
    "      if self.augment is True:\n",
    "        batch_xx = batch_x\n",
    "        batch_yy = batch_y\n",
    "        for ii in range(10-1):\n",
    "            aug = [self.augmentations(image=i, mask=j) for i, j in zip(batch_xx, batch_yy)]\n",
    "            batch_x = np.vstack([batch_x, np.array([i['image'] for i in aug])])\n",
    "            batch_y = np.vstack([batch_y, np.array([j['mask'] for j in aug])])\n",
    "            #batch_x = np.stack(batch_x, [i['image'] for i in aug], axis=0)\n",
    "            #batch_y = np.stack(batch_x, [j['mask'] for j in aug], axis=0)\n",
    "        \n",
    "      batch_y = np.expand_dims(batch_y, -1)\n",
    "    \n",
    "    \n",
    "      return batch_x/255, batch_y/1  "
   ]
  },
  {
   "cell_type": "code",
   "execution_count": null,
   "metadata": {
    "colab": {},
    "colab_type": "code",
    "id": "mlmESRGooSrb"
   },
   "outputs": [],
   "source": [
    "if set_valid:\n",
    "    test1_generator=Generator(test_image_paths,test_mask_paths)"
   ]
  },
  {
   "cell_type": "code",
   "execution_count": null,
   "metadata": {
    "colab": {
     "base_uri": "https://localhost:8080/",
     "height": 371
    },
    "colab_type": "code",
    "id": "CyzUpk6sogx4",
    "outputId": "0c3de657-273b-48ce-c12b-c05a9ea99282"
   },
   "outputs": [],
   "source": [
    "if set_valid:\n",
    "    # Validation generator samples (Un-augmented)\n",
    "    for i, j in test1_generator:\n",
    "        break\n",
    "\n",
    "    fig, axes = plt.subplots(1, 5, figsize=(13,2.5))\n",
    "    fig.suptitle('Original Images', fontsize=15)\n",
    "    axes = axes.flatten()\n",
    "    for img, ax in zip(i[:5], axes[:5]):\n",
    "        ax.imshow(img)\n",
    "        ax.axis('off')\n",
    "    plt.tight_layout()\n",
    "    plt.show()\n",
    "\n",
    "    fig, axes = plt.subplots(1, 5, figsize=(13,2.5))\n",
    "    fig.suptitle('Original Masks', fontsize=15)\n",
    "    axes = axes.flatten()\n",
    "    for img, ax in zip(j[:5], axes[:5]):\n",
    "        ax.imshow(np.squeeze(img, -1), cmap='gray')\n",
    "        ax.axis('off')\n",
    "    plt.tight_layout()\n",
    "    plt.show()"
   ]
  },
  {
   "cell_type": "code",
   "execution_count": null,
   "metadata": {
    "colab": {},
    "colab_type": "code",
    "id": "ZqsGyFXVorlj"
   },
   "outputs": [],
   "source": [
    "train_generator = Generator(train_image_files, train_mask_files)\n",
    "\n",
    "if set_valid:\n",
    "    validation_generator = Generator(val_image_files, val_mask_files)\n"
   ]
  },
  {
   "cell_type": "code",
   "execution_count": null,
   "metadata": {
    "colab": {
     "base_uri": "https://localhost:8080/",
     "height": 50
    },
    "colab_type": "code",
    "id": "alhpOEMoo42c",
    "outputId": "38cca7e1-2656-4def-97e6-ce6984896a3b"
   },
   "outputs": [],
   "source": [
    "for i, j in train_generator:\n",
    "  break\n",
    "\n",
    "print(i.shape)\n",
    "print(j.shape)"
   ]
  },
  {
   "cell_type": "code",
   "execution_count": null,
   "metadata": {
    "colab": {
     "base_uri": "https://localhost:8080/",
     "height": 50
    },
    "colab_type": "code",
    "id": "fxfzdIJZgZgj",
    "outputId": "36806106-4dc9-4ef1-c1b0-ca2eee955ff7"
   },
   "outputs": [],
   "source": [
    "if set_valid:\n",
    "    for i, j in validation_generator:\n",
    "      break\n",
    "\n",
    "    print(i.shape)\n",
    "    print(j.shape)"
   ]
  },
  {
   "cell_type": "code",
   "execution_count": null,
   "metadata": {
    "colab": {
     "base_uri": "https://localhost:8080/",
     "height": 371
    },
    "colab_type": "code",
    "id": "bSXAb0KEpEev",
    "outputId": "58a54098-1f0b-4268-9ba9-484be4e1fbdd"
   },
   "outputs": [],
   "source": [
    "# Train generator samples (Un-augmented)\n",
    "for i, j in train_generator:\n",
    "    break\n",
    "\n",
    "fig, axes = plt.subplots(1, 5, figsize=(13,2.5))\n",
    "fig.suptitle('Original Images', fontsize=15)\n",
    "axes = axes.flatten()\n",
    "for img, ax in zip(i[:5], axes[:5]):\n",
    "    ax.imshow(img)\n",
    "    ax.axis('off')\n",
    "plt.tight_layout()\n",
    "plt.show()\n",
    "\n",
    "fig, axes = plt.subplots(1, 5, figsize=(13,2.5))\n",
    "fig.suptitle('Original Masks', fontsize=15)\n",
    "axes = axes.flatten()\n",
    "for img, ax in zip(j[:5], axes[:5]):\n",
    "    ax.imshow(np.squeeze(img, -1), cmap='gray')\n",
    "    ax.axis('off')\n",
    "plt.tight_layout()\n",
    "plt.show()"
   ]
  },
  {
   "cell_type": "code",
   "execution_count": null,
   "metadata": {
    "colab": {
     "base_uri": "https://localhost:8080/",
     "height": 371
    },
    "colab_type": "code",
    "id": "0yDoEqFghIcv",
    "outputId": "63396b0e-2bc6-46b0-d326-97de60bdd768"
   },
   "outputs": [],
   "source": [
    "if set_valid:\n",
    "    # Validation generator samples (Un-augmented)\n",
    "    for i, j in validation_generator:\n",
    "        break\n",
    "\n",
    "    fig, axes = plt.subplots(1, 5, figsize=(13,2.5))\n",
    "    fig.suptitle('Original Images', fontsize=15)\n",
    "    axes = axes.flatten()\n",
    "    for img, ax in zip(i[:5], axes[:5]):\n",
    "        ax.imshow(img)\n",
    "        ax.axis('off')\n",
    "    plt.tight_layout()\n",
    "    plt.show()\n",
    "\n",
    "    fig, axes = plt.subplots(1, 5, figsize=(13,2.5))\n",
    "    fig.suptitle('Original Masks', fontsize=15)\n",
    "    axes = axes.flatten()\n",
    "    for img, ax in zip(j[:5], axes[:5]):\n",
    "        ax.imshow(np.squeeze(img, -1), cmap='gray')\n",
    "        ax.axis('off')\n",
    "    plt.tight_layout()\n",
    "    plt.show()"
   ]
  },
  {
   "cell_type": "code",
   "execution_count": null,
   "metadata": {
    "colab": {},
    "colab_type": "code",
    "id": "FfS0pC5X4ePu"
   },
   "outputs": [],
   "source": [
    "tg = Generator(train_image_files, train_mask_files, batch_size, img_dim, augment = True)\n",
    "\n",
    "\n",
    "if set_valid:\n",
    "    vg = Generator(val_image_files, val_mask_files, batch_size, img_dim, augment = False)"
   ]
  },
  {
   "cell_type": "code",
   "execution_count": null,
   "metadata": {},
   "outputs": [],
   "source": [
    "def visualize(image_x, image_y):\n",
    "    plt.figure(figsize=(5, 5))\n",
    "    plt.axis('off')\n",
    "    plt.tight_layout()\n",
    "    plt.imshow(image_x)\n",
    "    plt.show()\n",
    "        \n",
    "    plt.figure(figsize=(5, 5))\n",
    "    plt.axis('off')\n",
    "    plt.tight_layout()\n",
    "    plt.imshow(np.squeeze(image_y, -1), cmap='gray')\n",
    "    plt.show()"
   ]
  },
  {
   "cell_type": "code",
   "execution_count": null,
   "metadata": {
    "colab": {
     "base_uri": "https://localhost:8080/",
     "height": 52
    },
    "colab_type": "code",
    "id": "0axrrTjf41Qv",
    "outputId": "9fa9ad58-a2b1-4892-c6df-0fd26197b8f8"
   },
   "outputs": [],
   "source": [
    "for i, j in tg:\n",
    "  break\n",
    "\n",
    "print(i.shape)\n",
    "print(j.shape)"
   ]
  },
  {
   "cell_type": "code",
   "execution_count": null,
   "metadata": {
    "scrolled": false
   },
   "outputs": [],
   "source": [
    "\n",
    "for i, j in tg:\n",
    "    break;\n",
    "    \n",
    "for nn in range(0,10):\n",
    "    visualize(i[nn], j[nn])\n",
    "    \n",
    "print(i.shape)\n",
    "print(j.shape)    "
   ]
  },
  {
   "cell_type": "code",
   "execution_count": null,
   "metadata": {
    "colab": {
     "base_uri": "https://localhost:8080/",
     "height": 50
    },
    "colab_type": "code",
    "id": "-HIFbq9R44v8",
    "outputId": "0cf597fe-b122-4616-a673-0675c2f366e2"
   },
   "outputs": [],
   "source": [
    "if set_valid:\n",
    "    for i, j in vg:\n",
    "      break\n",
    "\n",
    "    print(i.shape)\n",
    "    print(j.shape)"
   ]
  },
  {
   "cell_type": "code",
   "execution_count": null,
   "metadata": {
    "colab": {
     "base_uri": "https://localhost:8080/",
     "height": 371
    },
    "colab_type": "code",
    "id": "5GkjKFbprzbh",
    "outputId": "6eac4afb-6f8f-446f-b17e-3a4ffecfb8fb"
   },
   "outputs": [],
   "source": [
    "# Augmented train\n",
    "for i, j in tg:\n",
    "    break\n",
    "\n",
    "fig, axes = plt.subplots(1, 5, figsize=(13,2.5))\n",
    "fig.suptitle('Augmented Images', fontsize=15)\n",
    "axes = axes.flatten()\n",
    "for img, ax in zip(i[:5], axes[:5]):\n",
    "    ax.imshow(img)\n",
    "    ax.axis('off')\n",
    "plt.tight_layout()\n",
    "plt.show()\n",
    "\n",
    "fig, axes = plt.subplots(1, 5, figsize=(13,2.5))\n",
    "fig.suptitle('Augmented Masks', fontsize=15)\n",
    "axes = axes.flatten()\n",
    "for img, ax in zip(j[:5], axes[:5]):\n",
    "    ax.imshow(np.squeeze(img, -1), cmap='gray')\n",
    "    ax.axis('off')\n",
    "plt.tight_layout()\n",
    "plt.show()"
   ]
  },
  {
   "cell_type": "markdown",
   "metadata": {
    "colab_type": "text",
    "id": "lbwR5Ua0dsHP"
   },
   "source": [
    "# Model"
   ]
  },
  {
   "cell_type": "code",
   "execution_count": null,
   "metadata": {
    "colab": {},
    "colab_type": "code",
    "id": "vWEwCGGnp2yp"
   },
   "outputs": [],
   "source": [
    "import numpy as np\n",
    "from tensorflow.keras.backend import int_shape\n",
    "from tensorflow.keras.models import Model\n",
    "from tensorflow.keras.layers import Conv2D, MaxPooling2D, UpSampling2D, Add, BatchNormalization, Input, Activation, Concatenate\n",
    "from keras.regularizers import l2"
   ]
  },
  {
   "cell_type": "code",
   "execution_count": null,
   "metadata": {
    "colab": {},
    "colab_type": "code",
    "id": "EhiXPvY6nzxI"
   },
   "outputs": [],
   "source": [
    "# BatchNormalization and Activation\n",
    "def BN_Act(x, act = True):\n",
    "    x = BatchNormalization()(x)\n",
    "    if act == True:\n",
    "        x = Activation(\"relu\")(x)\n",
    "    return x"
   ]
  },
  {
   "cell_type": "code",
   "execution_count": null,
   "metadata": {
    "colab": {},
    "colab_type": "code",
    "id": "_Thca7KWnz1X"
   },
   "outputs": [],
   "source": [
    "#conv2d block\n",
    "def conv2d_block(x, filters, kernel_size = (3, 3), padding = \"same\", strides = 1):\n",
    "    conv = BN_Act(x)\n",
    "    conv = Conv2D(filters, kernel_size, padding = padding, strides = strides)(conv)\n",
    "    return conv"
   ]
  },
  {
   "cell_type": "code",
   "execution_count": null,
   "metadata": {
    "colab": {},
    "colab_type": "code",
    "id": "RWeK7CsWnz6H"
   },
   "outputs": [],
   "source": [
    "#Fixed layer.\n",
    "def stem(x, filters, kernel_size=(3, 3), padding=\"same\", strides=1):\n",
    "    conv = Conv2D(filters, kernel_size, padding = padding, strides = strides)(x)\n",
    "    conv = conv2d_block(conv, filters, kernel_size = kernel_size, padding = padding, strides = strides)\n",
    "    \n",
    "    #skip\n",
    "    shortcut = Conv2D(filters, kernel_size = (1, 1), padding = padding, strides = strides)(x)\n",
    "    shortcut = BN_Act(shortcut, act = False) # No activation in skip connection\n",
    "    \n",
    "    output = Add()([conv, shortcut])\n",
    "    return output"
   ]
  },
  {
   "cell_type": "code",
   "execution_count": null,
   "metadata": {
    "colab": {},
    "colab_type": "code",
    "id": "r1tM8g0znz8h"
   },
   "outputs": [],
   "source": [
    "# Residual Block\n",
    "def residual_block(x, filters, kernel_size = (3, 3), padding = \"same\", strides = 1):\n",
    "    res = conv2d_block(x, filters, kernel_size = kernel_size, padding = padding, strides = strides)\n",
    "    res = conv2d_block(res, filters, kernel_size = kernel_size, padding = padding, strides = 1)\n",
    "    \n",
    "    shortcut = Conv2D(filters, kernel_size = (1, 1), padding = padding, strides = strides)(x)\n",
    "    shortcut = BN_Act(shortcut, act = False) # No activation in skip connection\n",
    "    \n",
    "    output = Add()([shortcut, res])\n",
    "    return output"
   ]
  },
  {
   "cell_type": "code",
   "execution_count": null,
   "metadata": {
    "colab": {},
    "colab_type": "code",
    "id": "HpRuPwern5qL"
   },
   "outputs": [],
   "source": [
    "# Upsampling Concatenation block\n",
    "def upsample_concat_block(x, xskip):\n",
    "    u = UpSampling2D((2, 2))(x)\n",
    "    c = Concatenate()([u, xskip])\n",
    "    return c"
   ]
  },
  {
   "cell_type": "code",
   "execution_count": null,
   "metadata": {
    "colab": {},
    "colab_type": "code",
    "id": "5XzCXZbnn5sl"
   },
   "outputs": [],
   "source": [
    "# MODEL\n",
    "def ResUNet():\n",
    "    f = [16, 32, 64, 128, 256]\n",
    "    inputs = Input((img_dim[0], img_dim[1], 3))\n",
    "    \n",
    "    ## Encoder/downsampling/contracting path\n",
    "    e0 = inputs\n",
    "    e1 = stem(e0, f[0])\n",
    "    e2 = residual_block(e1, f[1], strides = 2)\n",
    "    e3 = residual_block(e2, f[2], strides = 2)\n",
    "    e4 = residual_block(e3, f[3], strides = 2)\n",
    "    e5 = residual_block(e4, f[4], strides = 2)\n",
    "    \n",
    "    ## Bridge/Bottleneck\n",
    "    b0 = conv2d_block(e5, f[4], strides = 1)\n",
    "    b1 = conv2d_block(b0, f[4], strides = 1)\n",
    "    \n",
    "    ## Decoder/upsampling/expansive path\n",
    "    u1 = upsample_concat_block(b1, e4)\n",
    "    d1 = residual_block(u1, f[4])\n",
    "    \n",
    "    u2 = upsample_concat_block(d1, e3)\n",
    "    d2 = residual_block(u2, f[3])\n",
    "    \n",
    "    u3 = upsample_concat_block(d2, e2)\n",
    "    d3 = residual_block(u3, f[2])\n",
    "    \n",
    "    u4 = upsample_concat_block(d3, e1)\n",
    "    d4 = residual_block(u4, f[1])\n",
    "    \n",
    "    outputs = Conv2D(1, (1, 1), padding = \"same\", activation = \"sigmoid\")(d4)\n",
    "    model = Model(inputs, outputs)\n",
    "    return model"
   ]
  },
  {
   "cell_type": "code",
   "execution_count": null,
   "metadata": {
    "colab": {},
    "colab_type": "code",
    "id": "8pJakhY3vEd7"
   },
   "outputs": [],
   "source": [
    "K.clear_session()\n",
    "model = ResUNet()"
   ]
  },
  {
   "cell_type": "code",
   "execution_count": null,
   "metadata": {
    "colab": {
     "base_uri": "https://localhost:8080/",
     "height": 1000
    },
    "colab_type": "code",
    "id": "chhcbL7HpW_4",
    "outputId": "414a44e7-ec68-4fde-8f1a-e721578eafa6",
    "scrolled": true
   },
   "outputs": [],
   "source": [
    "model.summary()"
   ]
  },
  {
   "cell_type": "code",
   "execution_count": null,
   "metadata": {
    "colab": {
     "base_uri": "https://localhost:8080/",
     "height": 1000
    },
    "colab_type": "code",
    "id": "0iI1Zx9LunvR",
    "outputId": "89cbf902-2b4b-4fee-e260-9d47feec14e6"
   },
   "outputs": [],
   "source": [
    "from tensorflow.keras.utils import  plot_model\n",
    "\n",
    "plot_model(\n",
    "    model,\n",
    "    to_file=\"model.png\",\n",
    "    show_shapes=True,\n",
    "    show_layer_names=True,\n",
    "    rankdir=\"TB\",\n",
    "    expand_nested=True,\n",
    "    dpi=100,\n",
    ")"
   ]
  },
  {
   "cell_type": "markdown",
   "metadata": {
    "colab_type": "text",
    "id": "adri4a3xoHiW"
   },
   "source": [
    "# Loss\n",
    "# &\n",
    "# Compile"
   ]
  },
  {
   "cell_type": "code",
   "execution_count": null,
   "metadata": {
    "colab": {},
    "colab_type": "code",
    "id": "QDPNTRZ5xkpG"
   },
   "outputs": [],
   "source": [
    "smooth = 1.\n",
    "\n",
    "def dice_coef(y_true, y_pred):\n",
    "    y_true_f = K.flatten(y_true)\n",
    "    y_pred_f = K.flatten(y_pred)\n",
    "    intersection = tf.reduce_sum(y_true_f * y_pred_f)\n",
    "    return (2. * intersection + smooth) / (tf.reduce_sum(y_true_f) + tf.reduce_sum(y_pred_f) + smooth)\n",
    "\n",
    "\n",
    "def dice_coef_loss(y_true, y_pred):\n",
    "    return 1.0 - dice_coef(y_true, y_pred)\n",
    "\n",
    "def IOU(y_true, y_pred):\n",
    "\n",
    "    y_true = K.flatten(y_true)\n",
    "    y_pred = K.flatten(y_pred)\n",
    "\n",
    "    thresh = 0.5\n",
    "\n",
    "    y_true = K.cast(K.greater_equal(y_true, thresh), 'float32')\n",
    "    y_pred = K.cast(K.greater_equal(y_pred, thresh), 'float32')\n",
    "\n",
    "    union = K.sum(K.maximum(y_true, y_pred)) + K.epsilon()\n",
    "    intersection = K.sum(K.minimum(y_true, y_pred)) + K.epsilon()\n",
    "\n",
    "    iou = intersection/union\n",
    "\n",
    "    return iou\n",
    "\n"
   ]
  },
  {
   "cell_type": "code",
   "execution_count": null,
   "metadata": {
    "colab": {},
    "colab_type": "code",
    "id": "_VBuHnIEMNZA"
   },
   "outputs": [],
   "source": [
    "def lr_schedule(epoch):\n",
    "\n",
    "    lr =0.0035\n",
    "    if epoch >150:\n",
    "        lr *=2**-1\n",
    "    elif epoch >80:\n",
    "        lr *=2**(-1)\n",
    "    elif epoch >50:\n",
    "        lr *=2**(-1)\n",
    "    elif epoch >30:\n",
    "        lr *=2**(-1)\n",
    "    \n",
    "    print('Learning rate: ', lr)\n",
    "    return lr"
   ]
  },
  {
   "cell_type": "code",
   "execution_count": null,
   "metadata": {
    "colab": {},
    "colab_type": "code",
    "id": "Z7KTZtnjbPC0"
   },
   "outputs": [],
   "source": [
    "from tensorflow.keras.callbacks import ModelCheckpoint\n",
    "from tensorflow.keras.callbacks import LearningRateScheduler\n",
    "from keras.optimizers import SGD"
   ]
  },
  {
   "cell_type": "code",
   "execution_count": null,
   "metadata": {
    "colab": {},
    "colab_type": "code",
    "id": "ktbkm-XabA0V"
   },
   "outputs": [],
   "source": [
    "\n",
    "import time\n",
    "\n",
    "start_time = time.time()\n",
    "\n",
    "# Prepare callbacks for model saving and for learning rate adjustment.\n",
    "lr_scheduler = LearningRateScheduler(lr_schedule)\n",
    "\n",
    "lr_reducer = ReduceLROnPlateau(factor=np.sqrt(0.1),\n",
    "                               cooldown=0,\n",
    "                               patience=5,\n",
    "                               min_lr=0.5e-6)\n",
    "\n",
    "callbacks = [lr_reducer, lr_scheduler]\n"
   ]
  },
  {
   "cell_type": "code",
   "execution_count": null,
   "metadata": {
    "colab": {
     "base_uri": "https://localhost:8080/",
     "height": 33
    },
    "colab_type": "code",
    "id": "y22hIQ6nNKMt",
    "outputId": "09cc5c79-cf76-4213-d505-346a35886cd2"
   },
   "outputs": [],
   "source": [
    "import tensorflow as tf\n",
    "optimiser=tf.keras.optimizers.Adam(\n",
    "    learning_rate=lr_schedule(0),\n",
    "    beta_1=0.9,\n",
    "    beta_2=0.999,\n",
    "    epsilon=1e-07,\n",
    "    amsgrad=True,\n",
    "    name=\"Adam\"\n",
    ")\n",
    "\n",
    "#from tensorflow.keras.utils import multi_gpu_model\n",
    "#model = multi_gpu_model(model, gpus=4)\n",
    "\n",
    "\n",
    "#from tensorflow.keras.utils import multi_gpu_model\n",
    "#model = multi_gpu_model(model, gpus=2, cpu_merge=True, cpu_relocation=False)\n",
    "\n",
    "model.compile(optimizer =optimiser , loss = dice_coef_loss, metrics = ['accuracy', IOU, dice_coef])"
   ]
  },
  {
   "cell_type": "code",
   "execution_count": null,
   "metadata": {},
   "outputs": [],
   "source": [
    "# model.save('/data/datasets/crack/Crack500/Adam_and_beyond.h5')"
   ]
  },
  {
   "cell_type": "markdown",
   "metadata": {
    "colab_type": "text",
    "id": "6lEYjcwyGGvp"
   },
   "source": [
    "# Training"
   ]
  },
  {
   "cell_type": "code",
   "execution_count": null,
   "metadata": {
    "colab": {
     "base_uri": "https://localhost:8080/",
     "height": 1000
    },
    "colab_type": "code",
    "id": "nlYpzgkEno3d",
    "outputId": "08030de6-46f5-4457-c928-09a782492bae",
    "scrolled": true,
    "slideshow": {
     "slide_type": "-"
    }
   },
   "outputs": [],
   "source": [
    "train_steps = len(train_image_files)//batch_size\n",
    "\n",
    "if set_valid:\n",
    "    valid_steps = len(val_image_files)//batch_size\n",
    "\n",
    "if not set_valid:\n",
    "    vg = None\n",
    "    valid_steps = None\n",
    "    \n",
    "history = model.fit(\n",
    "    tg, \n",
    "    steps_per_epoch=train_steps,\n",
    "    initial_epoch = 0,\n",
    "    epochs=100,\n",
    "    validation_data = vg,    \n",
    "    validation_steps = valid_steps,callbacks=callbacks)"
   ]
  },
  {
   "cell_type": "code",
   "execution_count": null,
   "metadata": {},
   "outputs": [],
   "source": [
    "# Model save\n",
    "model.save(model_path)"
   ]
  },
  {
   "cell_type": "code",
   "execution_count": null,
   "metadata": {
    "colab": {},
    "colab_type": "code",
    "id": "0OiplUGb_PeN"
   },
   "outputs": [],
   "source": [
    "train_loss = history.history['loss']\n",
    "valid_loss = history.history['val_loss']\n",
    "\n",
    "train_acc = history.history['acc']\n",
    "valid_acc = history.history['val_acc']"
   ]
  },
  {
   "cell_type": "code",
   "execution_count": null,
   "metadata": {
    "colab": {
     "base_uri": "https://localhost:8080/",
     "height": 301
    },
    "colab_type": "code",
    "id": "6nH_vNkL_Pgz",
    "outputId": "cc3f17d5-b17a-423d-dca3-a57138991552"
   },
   "outputs": [],
   "source": [
    "fig, axes = plt.subplots(1, 2, figsize=(13,4))\n",
    "axes = axes.flatten()\n",
    "\n",
    "axes[0].plot(train_acc, label='training')\n",
    "axes[0].plot(valid_acc, label='validation')\n",
    "axes[0].set_title('Accuracy Curve')\n",
    "axes[0].set_xlabel('epochs')\n",
    "axes[0].set_ylabel('accuracy')\n",
    "axes[0].legend()\n",
    "\n",
    "\n",
    "axes[1].plot(train_loss, label='training')\n",
    "axes[1].plot(valid_loss, label='validation')\n",
    "axes[1].set_title('Loss Curve')\n",
    "axes[1].set_xlabel('epochs')\n",
    "axes[1].set_ylabel('loss')\n",
    "axes[1].legend()\n",
    "\n",
    "plt.show()"
   ]
  },
  {
   "cell_type": "code",
   "execution_count": null,
   "metadata": {
    "colab": {},
    "colab_type": "code",
    "id": "GYU764kkJfOp"
   },
   "outputs": [],
   "source": [
    "train_dice = history.history['dice_coef']\n",
    "valid_dice = history.history['val_dice_coef']\n",
    "\n",
    "\n",
    "train_IOU = history.history['IOU']\n",
    "valid_IOU = history.history['val_IOU']"
   ]
  },
  {
   "cell_type": "code",
   "execution_count": null,
   "metadata": {
    "colab": {
     "base_uri": "https://localhost:8080/",
     "height": 386
    },
    "colab_type": "code",
    "id": "Rmz6jQP4JniA",
    "outputId": "b7a6bb54-8529-455e-87be-2efcb86abb89"
   },
   "outputs": [],
   "source": [
    "fig, axes = plt.subplots(1, 2, figsize=(20,7))\n",
    "axes = axes.flatten()\n",
    "\n",
    "axes[0].plot(train_IOU, label='training')\n",
    "axes[0].plot(valid_IOU, label='validation')\n",
    "axes[0].set_title('IOU Curve [Adam lr : 0.0001]')\n",
    "axes[0].set_xlabel('epochs')\n",
    "axes[0].set_ylabel('IOU')\n",
    "axes[0].legend()\n",
    "\n",
    "\n",
    "axes[1].plot(train_dice, label='training')\n",
    "axes[1].plot(valid_dice, label='validation')\n",
    "axes[1].set_title('Dice coefficient Curve [Adam lr : 0.0001]')\n",
    "axes[1].set_xlabel('epochs')\n",
    "axes[1].set_ylabel('dice_coef')\n",
    "axes[1].legend()\n",
    "\n",
    "plt.show()"
   ]
  },
  {
   "cell_type": "markdown",
   "metadata": {
    "colab_type": "text",
    "id": "W4ceTgLJ-8yT"
   },
   "source": [
    "## Testing"
   ]
  },
  {
   "cell_type": "code",
   "execution_count": null,
   "metadata": {},
   "outputs": [],
   "source": [
    "model.load_weights(model_path)\n",
    "\n",
    "print(\"Loaded model from disk\")"
   ]
  },
  {
   "cell_type": "code",
   "execution_count": null,
   "metadata": {
    "colab": {},
    "colab_type": "code",
    "id": "xEsVhGmy_Pka"
   },
   "outputs": [],
   "source": [
    "test_generator = Generator(val_image_files, val_mask_files, 50, img_dim)\n",
    "\n",
    "for x_test, y_test in test_generator:\n",
    "  break\n",
    "\n",
    "y_pred = model.predict(x_test)\n",
    "\n",
    "yy_true = (y_test>0.5).flatten()\n",
    "yy_pred = (y_pred>0.5).flatten()"
   ]
  },
  {
   "cell_type": "code",
   "execution_count": null,
   "metadata": {
    "colab": {
     "base_uri": "https://localhost:8080/",
     "height": 468
    },
    "colab_type": "code",
    "id": "lG3z87pg_Pcl",
    "outputId": "942500b8-e1ee-4b51-db93-b15bddea504c"
   },
   "outputs": [],
   "source": [
    "report = classification_report(yy_true, yy_pred, output_dict=True)\n",
    "\n",
    "Accuracy = accuracy_score(yy_true, yy_pred)\n",
    "\n",
    "Precision = report['True']['precision']\n",
    "Recall = report['True']['recall']\n",
    "F1_score = report['True']['f1-score']\n",
    "\n",
    "Sensitivity = Recall\n",
    "Specificity = report['False']['recall']\n",
    "\n",
    "AUC = roc_auc_score(y_test.flatten(), y_pred.flatten())\n",
    "\n",
    "IOU = (Precision*Recall)/(Precision+Recall-Precision*Recall)\n",
    "\n",
    "print(\"Accuracy: {0:.4f}\\n\".format(Accuracy))\n",
    "print(\"Precision: {0:.4f}\\n\".format(Precision))\n",
    "print(\"Recall: {0:.4f}\\n\".format(Recall))\n",
    "print(\"F1-Score: {0:.4f}\\n\".format(F1_score))\n",
    "print(\"Sensitivity: {0:.4f}\\n\".format(Sensitivity))\n",
    "print(\"Specificity: {0:.4f}\\n\".format(Specificity))\n",
    "print(\"AUC: {0:.4f}\\n\".format(AUC))\n",
    "print(\"IOU: {0:.4f}\\n\".format(IOU))\n",
    "print('-'*50,'\\n')\n",
    "print(classification_report(yy_true, yy_pred))"
   ]
  },
  {
   "cell_type": "code",
   "execution_count": null,
   "metadata": {
    "colab": {},
    "colab_type": "code",
    "id": "3-v1fC7hoZ2m"
   },
   "outputs": [],
   "source": [
    "for i, j in test1_generator:\n",
    "  break\n",
    "\n",
    "print(i.shape)\n",
    "print(j.shape)"
   ]
  },
  {
   "cell_type": "code",
   "execution_count": null,
   "metadata": {
    "colab": {},
    "colab_type": "code",
    "id": "4zGmr8kGobtq"
   },
   "outputs": [],
   "source": [
    "ttg = Generator(test_image_paths,test_mask_paths, batch_size, img_dim, augment = False)"
   ]
  },
  {
   "cell_type": "code",
   "execution_count": null,
   "metadata": {
    "colab": {
     "base_uri": "https://localhost:8080/",
     "height": 50
    },
    "colab_type": "code",
    "id": "pZa54_xpo35l",
    "outputId": "7f3acf6f-ec8a-4a13-d5da-10b615326eea"
   },
   "outputs": [],
   "source": [
    "for i, j in ttg:\n",
    "  break\n",
    "\n",
    "print(i.shape)\n",
    "print(j.shape)"
   ]
  },
  {
   "cell_type": "code",
   "execution_count": null,
   "metadata": {
    "colab": {},
    "colab_type": "code",
    "id": "bzKKEBPKpKmi"
   },
   "outputs": [],
   "source": [
    "test_generator1 = Generator(test_image_paths,test_mask_paths,200, img_dim)\n",
    "\n",
    "for x_test, y_test in test_generator1:\n",
    "  break\n",
    "\n",
    "y_pred = model.predict(x_test)\n",
    "\n",
    "yy_true = (y_test>0.5).flatten()\n",
    "yy_pred = (y_pred>0.5).flatten()"
   ]
  },
  {
   "cell_type": "code",
   "execution_count": null,
   "metadata": {
    "colab": {
     "base_uri": "https://localhost:8080/",
     "height": 468
    },
    "colab_type": "code",
    "id": "AXjfwNfkpg8r",
    "outputId": "2b1b4c37-79e3-4b95-a96a-51b0d3fd95a1"
   },
   "outputs": [],
   "source": [
    "report = classification_report(yy_true, yy_pred, output_dict=True)\n",
    "\n",
    "Accuracy = accuracy_score(yy_true, yy_pred)\n",
    "\n",
    "Precision = report['True']['precision']\n",
    "Recall = report['True']['recall']\n",
    "F1_score = report['True']['f1-score']\n",
    "\n",
    "Sensitivity = Recall\n",
    "Specificity = report['False']['recall']\n",
    "\n",
    "AUC = roc_auc_score(y_test.flatten(), y_pred.flatten())\n",
    "\n",
    "IOU = (Precision*Recall)/(Precision+Recall-Precision*Recall)\n",
    "\n",
    "print(\"Accuracy: {0:.4f}\\n\".format(Accuracy))\n",
    "print(\"Precision: {0:.4f}\\n\".format(Precision))\n",
    "print(\"Recall: {0:.4f}\\n\".format(Recall))\n",
    "print(\"F1-Score: {0:.4f}\\n\".format(F1_score))\n",
    "print(\"Sensitivity: {0:.4f}\\n\".format(Sensitivity))\n",
    "print(\"Specificity: {0:.4f}\\n\".format(Specificity))\n",
    "print(\"AUC: {0:.4f}\\n\".format(AUC))\n",
    "print(\"IOU: {0:.4f}\\n\".format(IOU))\n",
    "print('-'*50,'\\n')\n",
    "print(classification_report(yy_true, yy_pred))"
   ]
  },
  {
   "cell_type": "code",
   "execution_count": null,
   "metadata": {},
   "outputs": [],
   "source": []
  }
 ],
 "metadata": {
  "accelerator": "GPU",
  "colab": {
   "collapsed_sections": [
    "np8rwLFJ-BLz",
    "gMVdfrVz-Vl7",
    "lbwR5Ua0dsHP",
    "adri4a3xoHiW",
    "6lEYjcwyGGvp",
    "W4ceTgLJ-8yT"
   ],
   "name": "Crack500.ipynb",
   "provenance": []
  },
  "kernelspec": {
   "display_name": "Python 3",
   "language": "python",
   "name": "python3"
  },
  "language_info": {
   "codemirror_mode": {
    "name": "ipython",
    "version": 3
   },
   "file_extension": ".py",
   "mimetype": "text/x-python",
   "name": "python",
   "nbconvert_exporter": "python",
   "pygments_lexer": "ipython3",
   "version": "3.6.9"
  }
 },
 "nbformat": 4,
 "nbformat_minor": 1
}
